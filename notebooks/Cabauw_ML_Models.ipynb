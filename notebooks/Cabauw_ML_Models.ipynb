{
 "cells": [
  {
   "cell_type": "code",
   "execution_count": 1,
   "metadata": {},
   "outputs": [],
   "source": [
    "%matplotlib inline\n",
    "import numpy as np\n",
    "import pandas as pd\n",
    "import matplotlib.pyplot as plt\n",
    "from sklearn.ensemble import RandomForestRegressor"
   ]
  },
  {
   "cell_type": "code",
   "execution_count": 2,
   "metadata": {},
   "outputs": [],
   "source": [
    "data = pd.read_csv(\"/Users/dgagne/data/cabauw_derived_data.csv\", index_col=\"Time\")"
   ]
  },
  {
   "cell_type": "code",
   "execution_count": 7,
   "metadata": {},
   "outputs": [
    {
     "data": {
      "text/plain": [
       "Index(['temperature_10 m_K', 'pressure_2 m_hPa',\n",
       "       'potential temperature_10 m_K', 'mixing ratio_10 m_g kg-1',\n",
       "       'virtual potential temperature_10 m_K', 'air density_10 m_kg m-3',\n",
       "       'wind speed_10 m_m s-1', 'wind direction_10 m_m s-1',\n",
       "       'u wind_10 m_m s-1', 'v wind_10 m_m s-1', 'mixing ratio_2 m_g kg-1',\n",
       "       'temperature_0 m_K', 'potential temperature_0 m_K',\n",
       "       'virtual potential temperature_0 m_K', 'friction velocity_surface_K',\n",
       "       'temperature scale_surface_K', 'moisture scale_surface_g kg-1',\n",
       "       'bulk richardson_surface_', 'obukhov length_surface_m'],\n",
       "      dtype='object')"
      ]
     },
     "execution_count": 7,
     "metadata": {},
     "output_type": "execute_result"
    }
   ],
   "source": [
    "data.columns"
   ]
  },
  {
   "cell_type": "code",
   "execution_count": 3,
   "metadata": {},
   "outputs": [
    {
     "data": {
      "text/plain": [
       "0.0"
      ]
     },
     "execution_count": 3,
     "metadata": {},
     "output_type": "execute_result"
    }
   ],
   "source": [
    "data[\"friction velocity_surface_K\"].min()"
   ]
  },
  {
   "cell_type": "code",
   "execution_count": 9,
   "metadata": {},
   "outputs": [
    {
     "data": {
      "text/plain": [
       "<matplotlib.axes._subplots.AxesSubplot at 0x1a19677cc0>"
      ]
     },
     "execution_count": 9,
     "metadata": {},
     "output_type": "execute_result"
    },
    {
     "data": {
      "image/png": "[encoded data removed]",
      "text/plain": [
       "<Figure size 432x288 with 1 Axes>"
      ]
     },
     "metadata": {},
     "output_type": "display_data"
    }
   ],
   "source": [
    "data[\"friction velocity_surface_K\"].hist(bins=20)"
   ]
  },
  {
   "cell_type": "code",
   "execution_count": 6,
   "metadata": {},
   "outputs": [
    {
     "data": {
      "image/png": "[encoded data removed]",
      "text/plain": [
       "<Figure size 432x288 with 1 Axes>"
      ]
     },
     "metadata": {},
     "output_type": "display_data"
    }
   ],
   "source": [
    "data[\"temperature scale_surface_K\"].hist(bins=100)\n",
    "plt.gca().set_yscale(\"log\")"
   ]
  },
  {
   "cell_type": "code",
   "execution_count": 10,
   "metadata": {},
   "outputs": [
    {
     "data": {
      "image/png": "[encoded data removed]",
      "text/plain": [
       "<Figure size 432x288 with 1 Axes>"
      ]
     },
     "metadata": {},
     "output_type": "display_data"
    }
   ],
   "source": [
    "data[\"moisture scale_surface_g kg-1\"].hist(bins=100)\n",
    "plt.gca().set_yscale(\"log\")"
   ]
  },
  {
   "cell_type": "code",
   "execution_count": 11,
   "metadata": {},
   "outputs": [
    {
     "name": "stdout",
     "output_type": "stream",
     "text": [
      "['temperature', '10 m', 'K']\n",
      "['pressure', '2 m', 'hPa']\n",
      "['potential temperature', '10 m', 'K']\n",
      "['mixing ratio', '10 m', 'g kg-1']\n",
      "['virtual potential temperature', '10 m', 'K']\n",
      "['air density', '10 m', 'kg m-3']\n",
      "['wind speed', '10 m', 'm s-1']\n",
      "['wind direction', '10 m', 'm s-1']\n",
      "['u wind', '10 m', 'm s-1']\n",
      "['v wind', '10 m', 'm s-1']\n",
      "['mixing ratio', '2 m', 'g kg-1']\n",
      "['temperature', '0 m', 'K']\n",
      "['potential temperature', '0 m', 'K']\n",
      "['virtual potential temperature', '0 m', 'K']\n",
      "['friction velocity', 'surface', 'K']\n",
      "['temperature scale', 'surface', 'K']\n",
      "['moisture scale', 'surface', 'g kg-1']\n",
      "['bulk richardson', 'surface', '']\n",
      "['obukhov length', 'surface', 'm']\n"
     ]
    }
   ],
   "source": [
    "for col in data.columns:\n",
    "    print(col.split(\"_\"))"
   ]
  },
  {
   "cell_type": "code",
   "execution_count": 27,
   "metadata": {},
   "outputs": [],
   "source": [
    "input_cols = [\"temperature_10 m_K\", \n",
    "              \"pressure_2 m_hPa\", \n",
    "              \"potential temperature_10 m_K\",\n",
    "              \"wind speed_10 m_m s-1\",\n",
    "              \"mixing ratio_2 m_g kg-1\",\n",
    "              \"temperature_0 m_K\",\n",
    "              \"potential temperature_0 m_K\",\n",
    "              \"bulk richardson_surface_\"]"
   ]
  },
  {
   "cell_type": "code",
   "execution_count": 75,
   "metadata": {},
   "outputs": [
    {
     "name": "stderr",
     "output_type": "stream",
     "text": [
      "[Parallel(n_jobs=3)]: Done  44 tasks      | elapsed:   50.6s\n",
      "[Parallel(n_jobs=3)]: Done 100 out of 100 | elapsed:  1.9min finished\n"
     ]
    },
    {
     "data": {
      "text/plain": [
       "RandomForestRegressor(bootstrap=True, criterion='mse', max_depth=10,\n",
       "           max_features='auto', max_leaf_nodes=None,\n",
       "           min_impurity_decrease=0.0, min_impurity_split=None,\n",
       "           min_samples_leaf=1, min_samples_split=2,\n",
       "           min_weight_fraction_leaf=0.0, n_estimators=100, n_jobs=3,\n",
       "           oob_score=False, random_state=None, verbose=1, warm_start=False)"
      ]
     },
     "execution_count": 75,
     "metadata": {},
     "output_type": "execute_result"
    }
   ],
   "source": [
    "rf = RandomForestRegressor(n_estimators=100, max_depth=10, n_jobs=3, verbose=1)\n",
    "rf.fit(data[input_cols], data[\"friction velocity_surface_K\"])"
   ]
  },
  {
   "cell_type": "code",
   "execution_count": 77,
   "metadata": {},
   "outputs": [
    {
     "name": "stdout",
     "output_type": "stream",
     "text": [
      "temperature_10 m_K 0.004141570139546811\n",
      "pressure_2 m_hPa 0.00178794498922874\n",
      "potential temperature_10 m_K 0.002263389811460225\n",
      "wind speed_10 m_m s-1 0.9676174163501596\n",
      "mixing ratio_2 m_g kg-1 0.0038033020230201753\n",
      "temperature_0 m_K 0.015871300077939705\n",
      "potential temperature_0 m_K 0.0012962205328762744\n",
      "bulk richardson_surface_ 0.0032188560757684575\n"
     ]
    }
   ],
   "source": [
    "for c, col in enumerate(input_cols):\n",
    "    print(col, rf.feature_importances_[c])"
   ]
  },
  {
   "cell_type": "code",
   "execution_count": 71,
   "metadata": {},
   "outputs": [
    {
     "data": {
      "text/plain": [
       "0"
      ]
     },
     "execution_count": 71,
     "metadata": {},
     "output_type": "execute_result"
    }
   ],
   "source": [
    "np.count_nonzero(np.isinf(data[input_cols].values))"
   ]
  },
  {
   "cell_type": "code",
   "execution_count": 52,
   "metadata": {},
   "outputs": [
    {
     "data": {
      "text/plain": [
       "(array([1.30000e+01, 1.40000e+01, 1.40000e+01, 2.40000e+01, 1.70000e+01,\n",
       "        1.30000e+01, 2.20000e+01, 2.50000e+01, 2.00000e+01, 2.40000e+01,\n",
       "        2.40000e+01, 2.60000e+01, 2.00000e+01, 2.70000e+01, 3.20000e+01,\n",
       "        4.80000e+01, 3.20000e+01, 3.10000e+01, 4.60000e+01, 4.90000e+01,\n",
       "        4.60000e+01, 4.80000e+01, 4.40000e+01, 5.80000e+01, 5.60000e+01,\n",
       "        7.20000e+01, 6.80000e+01, 7.00000e+01, 7.00000e+01, 9.00000e+01,\n",
       "        1.05000e+02, 1.16000e+02, 1.22000e+02, 1.46000e+02, 1.82000e+02,\n",
       "        1.72000e+02, 2.03000e+02, 2.52000e+02, 2.78000e+02, 3.73000e+02,\n",
       "        4.48000e+02, 5.63000e+02, 6.85000e+02, 9.24000e+02, 1.36400e+03,\n",
       "        1.98900e+03, 3.40100e+03, 6.77700e+03, 1.87340e+04, 3.77591e+05,\n",
       "        3.36832e+05, 6.16700e+03, 1.76900e+03, 8.15000e+02, 4.79000e+02,\n",
       "        3.07000e+02, 2.17000e+02, 1.42000e+02, 9.60000e+01, 6.10000e+01,\n",
       "        7.40000e+01, 5.30000e+01, 3.80000e+01, 3.30000e+01, 4.10000e+01,\n",
       "        2.80000e+01, 2.10000e+01, 1.10000e+01, 1.90000e+01, 1.20000e+01,\n",
       "        1.60000e+01, 2.00000e+01, 1.00000e+01, 1.10000e+01, 1.00000e+01,\n",
       "        6.00000e+00, 7.00000e+00, 3.00000e+00, 8.00000e+00, 4.00000e+00,\n",
       "        9.00000e+00, 8.00000e+00, 8.00000e+00, 4.00000e+00, 3.00000e+00,\n",
       "        4.00000e+00, 1.00000e+00, 6.00000e+00, 2.00000e+00, 5.00000e+00,\n",
       "        4.00000e+00, 3.00000e+00, 5.00000e+00, 2.00000e+00, 3.00000e+00,\n",
       "        2.00000e+00, 3.00000e+00, 1.00000e+00, 5.00000e+00, 6.00000e+00]),\n",
       " array([-25. , -24.5, -24. , -23.5, -23. , -22.5, -22. , -21.5, -21. ,\n",
       "        -20.5, -20. , -19.5, -19. , -18.5, -18. , -17.5, -17. , -16.5,\n",
       "        -16. , -15.5, -15. , -14.5, -14. , -13.5, -13. , -12.5, -12. ,\n",
       "        -11.5, -11. , -10.5, -10. ,  -9.5,  -9. ,  -8.5,  -8. ,  -7.5,\n",
       "         -7. ,  -6.5,  -6. ,  -5.5,  -5. ,  -4.5,  -4. ,  -3.5,  -3. ,\n",
       "         -2.5,  -2. ,  -1.5,  -1. ,  -0.5,   0. ,   0.5,   1. ,   1.5,\n",
       "          2. ,   2.5,   3. ,   3.5,   4. ,   4.5,   5. ,   5.5,   6. ,\n",
       "          6.5,   7. ,   7.5,   8. ,   8.5,   9. ,   9.5,  10. ,  10.5,\n",
       "         11. ,  11.5,  12. ,  12.5,  13. ,  13.5,  14. ,  14.5,  15. ,\n",
       "         15.5,  16. ,  16.5,  17. ,  17.5,  18. ,  18.5,  19. ,  19.5,\n",
       "         20. ,  20.5,  21. ,  21.5,  22. ,  22.5,  23. ,  23.5,  24. ,\n",
       "         24.5,  25. ]),\n",
       " <a list of 100 Patch objects>)"
      ]
     },
     "execution_count": 52,
     "metadata": {},
     "output_type": "execute_result"
    },
    {
     "data": {
      "image/png": "[encoded data removed]",
      "text/plain": [
       "<Figure size 432x288 with 1 Axes>"
      ]
     },
     "metadata": {},
     "output_type": "display_data"
    }
   ],
   "source": [
    "plt.hist(data[\"bulk richardson_surface_\"], range=(-25, 25), bins=100)"
   ]
  },
  {
   "cell_type": "code",
   "execution_count": 73,
   "metadata": {},
   "outputs": [
    {
     "data": {
      "text/plain": [
       "-2426552.4246926317"
      ]
     },
     "execution_count": 73,
     "metadata": {},
     "output_type": "execute_result"
    }
   ],
   "source": [
    "data[\"bulk richardson_surface_\"].quantile(0.0001)"
   ]
  },
  {
   "cell_type": "code",
   "execution_count": 66,
   "metadata": {},
   "outputs": [
    {
     "data": {
      "text/plain": [
       "(array([1.8880e+03, 4.1080e+03, 7.8840e+03, 1.2725e+04, 1.6025e+04,\n",
       "        2.0432e+04, 2.3962e+04, 2.6963e+04, 3.0178e+04, 3.2119e+04,\n",
       "        3.6107e+04, 3.4717e+04, 3.4878e+04, 3.5984e+04, 3.3128e+04,\n",
       "        3.1934e+04, 2.9735e+04, 2.8160e+04, 2.6654e+04, 2.4664e+04,\n",
       "        2.4765e+04, 2.1365e+04, 1.9970e+04, 2.0163e+04, 1.7388e+04,\n",
       "        1.6182e+04, 1.5268e+04, 1.3822e+04, 1.2547e+04, 1.2255e+04,\n",
       "        1.0216e+04, 9.1530e+03, 8.4300e+03, 8.0560e+03, 6.5510e+03,\n",
       "        5.8540e+03, 5.3910e+03, 4.7770e+03, 4.2320e+03, 3.9040e+03,\n",
       "        3.7030e+03, 3.1610e+03, 2.7680e+03, 2.8100e+03, 2.3190e+03,\n",
       "        2.1460e+03, 1.9120e+03, 1.6870e+03, 1.4690e+03, 1.2740e+03,\n",
       "        1.2440e+03, 9.5000e+02, 8.2600e+02, 7.8300e+02, 5.8500e+02,\n",
       "        4.7700e+02, 4.5100e+02, 4.0100e+02, 3.4600e+02, 3.2100e+02,\n",
       "        2.5400e+02, 2.4300e+02, 1.9200e+02, 2.1200e+02, 1.7500e+02,\n",
       "        1.2000e+02, 1.1200e+02, 1.2100e+02, 1.3400e+02, 1.0100e+02,\n",
       "        6.9000e+01, 6.1000e+01, 5.5000e+01, 5.2000e+01, 2.9000e+01,\n",
       "        4.0000e+01, 2.7000e+01, 1.4000e+01, 1.2000e+01, 1.9000e+01,\n",
       "        1.5000e+01, 1.2000e+01, 7.0000e+00, 8.0000e+00, 8.0000e+00,\n",
       "        7.0000e+00, 1.4000e+01, 1.2000e+01, 6.0000e+00, 4.0000e+00,\n",
       "        3.0000e+00, 4.0000e+00, 3.0000e+00, 5.0000e+00, 1.0000e+00,\n",
       "        2.0000e+00, 1.0000e+00, 2.0000e+00, 0.0000e+00, 1.0000e+00]),\n",
       " array([ 0.   ,  0.231,  0.462,  0.693,  0.924,  1.155,  1.386,  1.617,\n",
       "         1.848,  2.079,  2.31 ,  2.541,  2.772,  3.003,  3.234,  3.465,\n",
       "         3.696,  3.927,  4.158,  4.389,  4.62 ,  4.851,  5.082,  5.313,\n",
       "         5.544,  5.775,  6.006,  6.237,  6.468,  6.699,  6.93 ,  7.161,\n",
       "         7.392,  7.623,  7.854,  8.085,  8.316,  8.547,  8.778,  9.009,\n",
       "         9.24 ,  9.471,  9.702,  9.933, 10.164, 10.395, 10.626, 10.857,\n",
       "        11.088, 11.319, 11.55 , 11.781, 12.012, 12.243, 12.474, 12.705,\n",
       "        12.936, 13.167, 13.398, 13.629, 13.86 , 14.091, 14.322, 14.553,\n",
       "        14.784, 15.015, 15.246, 15.477, 15.708, 15.939, 16.17 , 16.401,\n",
       "        16.632, 16.863, 17.094, 17.325, 17.556, 17.787, 18.018, 18.249,\n",
       "        18.48 , 18.711, 18.942, 19.173, 19.404, 19.635, 19.866, 20.097,\n",
       "        20.328, 20.559, 20.79 , 21.021, 21.252, 21.483, 21.714, 21.945,\n",
       "        22.176, 22.407, 22.638, 22.869, 23.1  ]),\n",
       " <a list of 100 Patch objects>)"
      ]
     },
     "execution_count": 66,
     "metadata": {},
     "output_type": "execute_result"
    },
    {
     "data": {
      "image/png": "[encoded data removed]",
      "text/plain": [
       "<Figure size 432x288 with 1 Axes>"
      ]
     },
     "metadata": {},
     "output_type": "display_data"
    }
   ],
   "source": []
  },
  {
   "cell_type": "code",
   "execution_count": 68,
   "metadata": {},
   "outputs": [
    {
     "data": {
      "text/plain": [
       "336"
      ]
     },
     "execution_count": 68,
     "metadata": {},
     "output_type": "execute_result"
    }
   ],
   "source": [
    "np.count_nonzero(data[\"wind speed_10 m_m s-1\"].values == 0)"
   ]
  },
  {
   "cell_type": "code",
   "execution_count": null,
   "metadata": {},
   "outputs": [],
   "source": []
  }
 ],
 "metadata": {
  "kernelspec": {
   "display_name": "Python 3",
   "language": "python",
   "name": "python3"
  },
  "language_info": {
   "codemirror_mode": {
    "name": "ipython",
    "version": 3
   },
   "file_extension": ".py",
   "mimetype": "text/x-python",
   "name": "python",
   "nbconvert_exporter": "python",
   "pygments_lexer": "ipython3",
   "version": "3.6.5"
  }
 },
 "nbformat": 4,
 "nbformat_minor": 2
}
