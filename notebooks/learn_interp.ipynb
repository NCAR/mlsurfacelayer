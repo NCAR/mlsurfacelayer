{
 "cells": [
  {
   "cell_type": "code",
   "execution_count": 1,
   "id": "e807d8c5-4083-4096-b3ef-08a5d7e7fb72",
   "metadata": {},
   "outputs": [],
   "source": [
    "import numpy as np\n",
    "import pandas as pd\n",
    "from scipy.interpolate import interp1d, UnivariateSpline, InterpolatedUnivariateSpline\n",
    "import matplotlib.pyplot as plt\n",
    "from tensorflow.keras.layers import Dense, Input, Activation, Normalization\n",
    "from tensorflow.keras.models import Model, Sequential\n",
    "from tensorflow.keras.regularizers import l2\n",
    "from tensorflow.data import Dataset\n",
    "import tensorflow as tf\n",
    "%matplotlib inline"
   ]
  },
  {
   "cell_type": "markdown",
   "id": "f9123b41-5397-4866-82e5-5bb37f374a25",
   "metadata": {},
   "source": [
    "# Motivation\n",
    "* Current ML surface layer parameterization trains based on fixed z level observations.\n",
    "* However, MOST assumes a constant flux with height within surface layer and effectively scales the wind, temperature, and moisture gradients with the exchange coefficient.\n",
    "* If we include z as an input and train with multiple z values rather than 1, can the NN learn to be robust to the height of the measurement?"
   ]
  },
  {
   "cell_type": "code",
   "execution_count": 2,
   "id": "b999bddb-a676-4758-ade6-898d355ebda0",
   "metadata": {},
   "outputs": [],
   "source": [
    "class IdahoDataset(Dataset):\n",
    "    def _generator():\n",
    "        train_data = pd.read_csv(\"/Users/dgagne/data/idaho_derived_data_20210720.csv\")\n",
    "        zs = np.array([2, 10, 15, 45])\n",
    "        wind_speed_cols = train_data.columns[train_data.columns.str.startswith(\"wind_speed:\")][:-1]\n",
    "        potential_temperature_cols = train_data.columns[train_data.columns.str.startswith(\"potential_temperature:\")]\n",
    "        while True:\n",
    "            row = np.random.randint(0, train_data.shape[0], 1)\n",
    "            zi = np.random.random(1) * (zs.max() - zs.min()) + zs.min()\n",
    "            wind_spline = InterpolatedUnivariateSpline(zs, np.log(train_data.loc[row, wind_speed_cols]), k=3)\n",
    "            temp_spline = InterpolatedUnivariateSpline(zs, train_data.loc[row, potential_temperature_cols], k=3)\n",
    "            wind_i = (wind_spline(zi) - 1.2) / 0.7\n",
    "            temp_i = (temp_spline(zi) - 297.) / 10.0\n",
    "            skin_temp = (train_data.loc[row, 'skin_potential_temperature:0_m:K'] - 297) / 10\n",
    "            z_n = (np.log(zi) - 3) / 0.1\n",
    "            yield np.array([wind_i, temp_i, skin_temp, z_n], dtype=np.float32).T, np.log(train_data.loc[row, 'friction_velocity:surface:m_s-1'])\n",
    "    \n",
    "    def __new__(cls):\n",
    "        return tf.data.Dataset.from_generator(cls._generator, output_types=(tf.float32, tf.float32))\n",
    "    \n",
    "class IdahoDatasetNoZ(Dataset):\n",
    "    def _generator():\n",
    "        train_data = pd.read_csv(\"/Users/dgagne/data/idaho_derived_data_20210720.csv\")\n",
    "        zs = np.array([2, 10, 15, 45])\n",
    "        wind_speed_cols = train_data.columns[train_data.columns.str.startswith(\"wind_speed:\")][:-1]\n",
    "        potential_temperature_cols = train_data.columns[train_data.columns.str.startswith(\"potential_temperature:\")]\n",
    "        while True:\n",
    "            row = np.random.randint(0, train_data.shape[0], 1)\n",
    "            zi = np.random.random(1) * (zs.max() - zs.min()) + zs.min()\n",
    "            wind_spline = InterpolatedUnivariateSpline(zs, np.log(train_data.loc[row, wind_speed_cols]), k=3)\n",
    "            temp_spline = InterpolatedUnivariateSpline(zs, train_data.loc[row, potential_temperature_cols], k=3)\n",
    "            wind_i = (wind_spline(zi) - 1.2) / 0.7\n",
    "            temp_i = (temp_spline(zi) - 297.) / 10.0\n",
    "            skin_temp = (train_data.loc[row, 'skin_potential_temperature:0_m:K'] - 297) / 10\n",
    "            z_n = (np.log(zi) - 3) / 0.1\n",
    "            yield np.array([wind_i, temp_i, skin_temp], dtype=np.float32).T, np.log(train_data.loc[row, 'friction_velocity:surface:m_s-1'])\n",
    "    \n",
    "    def __new__(cls):\n",
    "        return tf.data.Dataset.from_generator(cls._generator, output_types=(tf.float32, tf.float32))\n",
    "        "
   ]
  },
  {
   "cell_type": "code",
   "execution_count": 11,
   "id": "23102589-ab57-4322-bea1-dae686f88d3a",
   "metadata": {},
   "outputs": [],
   "source": [
    "data = pd.read_csv(\"/Users/dgagne/data/idaho_derived_data_20210720.csv\")\n"
   ]
  },
  {
   "cell_type": "code",
   "execution_count": 510,
   "id": "199779fa-04cf-48af-846f-8bcc95dd7885",
   "metadata": {},
   "outputs": [
    {
     "data": {
      "text/plain": [
       "Index(['Time', 'wind_speed:2_m:m_s-1', 'wind_gust:2_m:m_s-1',\n",
       "       'wind_direction:2_m:degrees', 'sigma_theta:2_m:degrees',\n",
       "       'wind_speed:10_m:m_s-1', 'wind_gust:10_m:m_s-1',\n",
       "       'wind_direction:10_m:degrees', 'sigma_theta:10_m:degrees',\n",
       "       'wind_speed:15_m:m_s-1', 'wind_gust:15_m:m_s-1',\n",
       "       'wind_direction:15_m:degrees', 'sigma_theta:15_m:degrees',\n",
       "       'wind_speed:45_m:m_s-1', 'wind_gust:45_m:m_s-1',\n",
       "       'wind_direction:45_m:degrees', 'sigma_theta:45_m:degrees',\n",
       "       'wind_speed:top:m_s-1', 'wind_gust:top:m_s-1',\n",
       "       'wind_direction:top:degrees', 'sigma_theta:top:degrees',\n",
       "       'relative_humidity:2_m:%', 'GHI_met_tower:0_m:W_m-2',\n",
       "       'BP_inches:0_m:inches_hg', 'Rain:0_m:inches',\n",
       "       'Water_Content:5_cm:m3_m-3', 'Water_Content:10_cm:m3_m-3',\n",
       "       'Water_Content:20_cm:m3_m-3', 'Water_Content:50_cm:m3_m-3',\n",
       "       'Water_Content:100_cm:m3_m-3', 'Soil_Temp:5_cm:C', 'Soil_Temp:10_cm:C',\n",
       "       'Soil_Temp:20_cm:C', 'Soil_Temp:50_cm:C', 'Soil_Temp:100_cm:C',\n",
       "       'Tau:surface:kg_m-1_s-2', 'sensible_heat_flux:surface:W_m-2',\n",
       "       'latent_heat_flux:surface:W_m-2', 'air_density:10_m:kg_m-3',\n",
       "       'air_heat_capacity:0_m:J_kg-1_K-1', 'net_radiation:0_m:W_m-2',\n",
       "       'global_horizontal_irradiance:0_m:W_m-2', 'Swout:0_m:W_m-2',\n",
       "       'Lwin:0_m:W_m-2', 'Lwout:0_m:W_m-2', 'zenith:0_m:degrees',\n",
       "       'temperature:2_m:K', 'temperature:10_m:K', 'temperature:15_m:K',\n",
       "       'temperature:45_m:K', 'u_wind:2_m:m_s-1', 'v_wind:2_m:m_s-1',\n",
       "       'u_wind:10_m:m_s-1', 'v_wind:10_m:m_s-1', 'u_wind:15_m:m_s-1',\n",
       "       'v_wind:15_m:m_s-1', 'u_wind:45_m:m_s-1', 'v_wind:45_m:m_s-1',\n",
       "       'pressure:2_m:hPa', 'potential_temperature:2_m:K',\n",
       "       'potential_temperature:10_m:K', 'potential_temperature:15_m:K',\n",
       "       'potential_temperature:45_m:K', 'friction_velocity:surface:m_s-1',\n",
       "       'temperature_scale:surface:K', 'moisture_scale:surface:g_kg-1',\n",
       "       'obukhov_length:0_m:m', 'mixing_ratio:2_m:g_kg-1',\n",
       "       'virtual_potential_temperature:2_m:K',\n",
       "       'bulk_richardson_number:2_m:None',\n",
       "       'bulk_richardson_number:10_m_2_m:None', 'soil_temperature:5_cm:K',\n",
       "       'soil_potential_temperature:5_cm:K',\n",
       "       'soil_virtual_potential_temperature:5_cm:K',\n",
       "       'soil_bulk_richardson_number:2_m_5_cm:None',\n",
       "       'roughness_length_surface:0_m:m', 'BRN_sign:0_m:None',\n",
       "       'BRN_sign:5_cm:None', 'skin_temperature:0_m:K',\n",
       "       'skin_potential_temperature:0_m:K',\n",
       "       'skin_saturation_mixing_ratio:0_m:g_kg-1', 'bulk_richardson:10_m:None',\n",
       "       'potential_temperature_skin_change:2_m:K_m-1',\n",
       "       'potential_temperature_skin_change:10_m:K_m-1',\n",
       "       'potential_temperature_skin_change:15_m:K_m-1',\n",
       "       'potential_temperature_skin_change:45_m:K_m-1',\n",
       "       'virtual_potential_temperature_skin_change:2_m:K_m-1',\n",
       "       'mixing_ratio_skin_change:2_m:g_kg-1_m-1',\n",
       "       'moisture_availability:soil:None',\n",
       "       'kinematic_sensible_heat_flux:surface:K_m_s-1',\n",
       "       'kinematic_latent_heat_flux:surface:g_kg-1_m_s-1'],\n",
       "      dtype='object')"
      ]
     },
     "execution_count": 510,
     "metadata": {},
     "output_type": "execute_result"
    }
   ],
   "source": [
    "data.columns"
   ]
  },
  {
   "cell_type": "code",
   "execution_count": 5,
   "id": "0170295e-07a7-4b0b-b92a-bab9a8c16029",
   "metadata": {},
   "outputs": [
    {
     "name": "stderr",
     "output_type": "stream",
     "text": [
      "2022-01-31 09:50:24.241340: I tensorflow/core/platform/cpu_feature_guard.cc:142] This TensorFlow binary is optimized with oneAPI Deep Neural Network Library (oneDNN) to use the following CPU instructions in performance-critical operations:  AVX2 FMA\n",
      "To enable them in other operations, rebuild TensorFlow with the appropriate compiler flags.\n"
     ]
    }
   ],
   "source": [
    "model = Sequential()\n",
    "model.add(Dense(64, kernel_regularizer=l2(0.0001), input_shape=(4,)))\n",
    "model.add(Activation('relu'))\n",
    "model.add(Dense(64, kernel_regularizer=l2(0.0001)))\n",
    "model.add(Activation('relu'))\n",
    "model.add(Dense(1))\n",
    "model.compile(loss=\"mse\", optimizer=\"adam\")"
   ]
  },
  {
   "cell_type": "code",
   "execution_count": 6,
   "id": "927a38de-0459-4390-a3cb-8c897743a730",
   "metadata": {},
   "outputs": [
    {
     "name": "stderr",
     "output_type": "stream",
     "text": [
      "2022-01-31 09:50:38.705971: I tensorflow/compiler/mlir/mlir_graph_optimization_pass.cc:185] None of the MLIR Optimization Passes are enabled (registered 2)\n"
     ]
    },
    {
     "name": "stdout",
     "output_type": "stream",
     "text": [
      "Epoch 1/10\n",
      "1000/1000 [==============================] - 4s 3ms/step - loss: 0.5676\n",
      "Epoch 2/10\n",
      "1000/1000 [==============================] - 3s 3ms/step - loss: 0.5050\n",
      "Epoch 3/10\n",
      "1000/1000 [==============================] - 3s 3ms/step - loss: 0.2619\n",
      "Epoch 4/10\n",
      "1000/1000 [==============================] - 3s 3ms/step - loss: 0.2403\n",
      "Epoch 5/10\n",
      "1000/1000 [==============================] - 3s 3ms/step - loss: 0.2147\n",
      "Epoch 6/10\n",
      "1000/1000 [==============================] - 3s 3ms/step - loss: 0.2277\n",
      "Epoch 7/10\n",
      "1000/1000 [==============================] - 3s 3ms/step - loss: 0.2030\n",
      "Epoch 8/10\n",
      "1000/1000 [==============================] - 3s 3ms/step - loss: 0.2253\n",
      "Epoch 9/10\n",
      "1000/1000 [==============================] - 3s 3ms/step - loss: 0.2021\n",
      "Epoch 10/10\n",
      "1000/1000 [==============================] - 3s 3ms/step - loss: 0.1771\n"
     ]
    },
    {
     "data": {
      "text/plain": [
       "<keras.callbacks.History at 0x7f996864dd90>"
      ]
     },
     "execution_count": 6,
     "metadata": {},
     "output_type": "execute_result"
    }
   ],
   "source": [
    "ds = IdahoDataset()\n",
    "model.fit(ds, batch_size=128, steps_per_epoch=1000, epochs=10)"
   ]
  },
  {
   "cell_type": "code",
   "execution_count": 7,
   "id": "e203fb7c-ec06-4dbb-8db5-80d002cdae89",
   "metadata": {},
   "outputs": [],
   "source": [
    "modelnoz = Sequential()\n",
    "modelnoz.add(Dense(64, kernel_regularizer=l2(0.0001), input_shape=(3,)))\n",
    "modelnoz.add(Activation('relu'))\n",
    "modelnoz.add(Dense(64, kernel_regularizer=l2(0.0001)))\n",
    "modelnoz.add(Activation('relu'))\n",
    "modelnoz.add(Dense(1))\n",
    "modelnoz.compile(loss=\"mse\", optimizer=\"adam\")"
   ]
  },
  {
   "cell_type": "code",
   "execution_count": 8,
   "id": "3484af2b-0453-41f2-ba21-1457dafa48b7",
   "metadata": {},
   "outputs": [
    {
     "name": "stdout",
     "output_type": "stream",
     "text": [
      "Epoch 1/10\n",
      "1000/1000 [==============================] - 4s 3ms/step - loss: 0.3933\n",
      "Epoch 2/10\n",
      "1000/1000 [==============================] - 3s 3ms/step - loss: 0.4468\n",
      "Epoch 3/10\n",
      "1000/1000 [==============================] - 3s 3ms/step - loss: 0.2641\n",
      "Epoch 4/10\n",
      "1000/1000 [==============================] - 3s 3ms/step - loss: 0.2859\n",
      "Epoch 5/10\n",
      "1000/1000 [==============================] - 3s 3ms/step - loss: 0.2056\n",
      "Epoch 6/10\n",
      "1000/1000 [==============================] - 3s 3ms/step - loss: 0.1967\n",
      "Epoch 7/10\n",
      "1000/1000 [==============================] - 3s 3ms/step - loss: 0.1875\n",
      "Epoch 8/10\n",
      "1000/1000 [==============================] - 3s 3ms/step - loss: 0.1744\n",
      "Epoch 9/10\n",
      "1000/1000 [==============================] - 4s 4ms/step - loss: 0.3048\n",
      "Epoch 10/10\n",
      "1000/1000 [==============================] - 3s 3ms/step - loss: 0.1828\n"
     ]
    },
    {
     "data": {
      "text/plain": [
       "<keras.callbacks.History at 0x7f99aca216a0>"
      ]
     },
     "execution_count": 8,
     "metadata": {},
     "output_type": "execute_result"
    }
   ],
   "source": [
    "dsz = IdahoDatasetNoZ()\n",
    "modelnoz.fit(dsz, batch_size=128, steps_per_epoch=1000, epochs=10)"
   ]
  },
  {
   "cell_type": "code",
   "execution_count": 124,
   "id": "c281cdd4-7831-4db0-8766-b3f935968c5c",
   "metadata": {},
   "outputs": [
    {
     "data": {
      "text/plain": [
       "wind_speed:2_m:m_s-1     0.712367\n",
       "wind_speed:10_m:m_s-1    0.678766\n",
       "wind_speed:15_m:m_s-1    0.691344\n",
       "wind_speed:45_m:m_s-1    0.711906\n",
       "dtype: float64"
      ]
     },
     "execution_count": 124,
     "metadata": {},
     "output_type": "execute_result"
    }
   ],
   "source": [
    "np.log(data[wind_speed_cols]).std()"
   ]
  },
  {
   "cell_type": "code",
   "execution_count": 96,
   "id": "1f2f0f49-2654-4e38-af6d-b814906da73b",
   "metadata": {},
   "outputs": [
    {
     "data": {
      "text/plain": [
       "potential_temperature:2_m:K     296.596599\n",
       "potential_temperature:10_m:K    297.076415\n",
       "potential_temperature:15_m:K    297.195705\n",
       "potential_temperature:45_m:K    297.615612\n",
       "dtype: float64"
      ]
     },
     "execution_count": 96,
     "metadata": {},
     "output_type": "execute_result"
    }
   ],
   "source": [
    "data[potential_temperature_cols].mean()"
   ]
  },
  {
   "cell_type": "code",
   "execution_count": 105,
   "id": "465c2c18-6fcf-4ba4-aa6d-38c7023856d9",
   "metadata": {},
   "outputs": [
    {
     "data": {
      "text/plain": [
       "potential_temperature:2_m:K     12.160813\n",
       "potential_temperature:10_m:K    11.654074\n",
       "potential_temperature:15_m:K    11.556672\n",
       "potential_temperature:45_m:K    11.274580\n",
       "dtype: float64"
      ]
     },
     "execution_count": 105,
     "metadata": {},
     "output_type": "execute_result"
    }
   ],
   "source": [
    "data[potential_temperature_cols].std()"
   ]
  },
  {
   "cell_type": "code",
   "execution_count": 199,
   "id": "4c00b645-0047-43e2-b8a4-68b42c2b3ed7",
   "metadata": {},
   "outputs": [],
   "source": []
  },
  {
   "cell_type": "code",
   "execution_count": 48,
   "id": "44b54f7c-2548-49c8-9f3f-bed5507fb0bd",
   "metadata": {},
   "outputs": [
    {
     "data": {
      "text/plain": [
       "Text(0, 0.5, 'Height (m)')"
      ]
     },
     "execution_count": 48,
     "metadata": {},
     "output_type": "execute_result"
    },
    {
     "data": {
      "image/png": "[encoded data removed]",
      "text/plain": [
       "<Figure size 432x288 with 1 Axes>"
      ]
     },
     "metadata": {
      "needs_background": "light"
     },
     "output_type": "display_data"
    }
   ],
   "source": [
    "zs = np.array([2, 10, 15, 45], dtype=float)\n",
    "wind_speed_cols = data.columns[data.columns.str.startswith(\"wind_speed:\")][:-1]\n",
    "potential_temperature_cols = data.columns[data.columns.str.startswith(\"potential_temperature:\")]\n",
    "row = np.random.randint(0, data.shape[0], 1)\n",
    "zi_range = np.arange(2, 45, 1)\n",
    "wind_spline = InterpolatedUnivariateSpline(zs, np.log(data.loc[row, wind_speed_cols]), k=1)\n",
    "temp_spline = InterpolatedUnivariateSpline(zs, data.loc[row, potential_temperature_cols], k=1)\n",
    "wind_i = (wind_spline(zi_range) - 1.2) / 0.7\n",
    "temp_i = (temp_spline(zi_range) - 297) / 10\n",
    "zi_n = (np.log(zi_range) - 3) / 0.1\n",
    "skin_temp_n = np.ones(wind_i.shape[0])\n",
    "skin_temp_n = skin_temp_n *  ((data.loc[row, 'skin_potential_temperature:0_m:K'].values - 297) / 10)\n",
    "skin_temp_n.shape\n",
    "int_row_ex = np.vstack([wind_i, temp_i, skin_temp_n, zi_n]).T\n",
    "mod_z_height_pred = model.predict(int_row_ex)\n",
    "mod_noz_height_pred = modelnoz.predict(int_row_ex[:, :-1])\n",
    "plt.plot(np.exp(mod_z_height_pred), zi_range, \"r-\", label=\"Z NN\")\n",
    "plt.plot(np.exp(mod_noz_height_pred), zi_range, \"b-\", label=\"No Z NN\")\n",
    "actual_log_fv = np.log(data.loc[row, 'friction_velocity:surface:m_s-1'].values)\n",
    "plt.plot(np.ones(zi_range.shape) * np.exp(actual_log_fv), zi_range, 'k--', label=\"Observed\")\n",
    "plt.legend()\n",
    "plt.xlabel(\"log of Friction Velocity (m/s)\")\n",
    "plt.ylabel(\"Height (m)\")"
   ]
  },
  {
   "cell_type": "code",
   "execution_count": 39,
   "id": "3b2fa685-b06f-4242-9931-1f9799fc8300",
   "metadata": {},
   "outputs": [],
   "source": [
    "wspd_lognorm = (np.log(data[\"wind_speed:45_m:m_s-1\"].values) - 1.2) / 0.7\n",
    "temp_norm = (data[\"potential_temperature:45_m:K\"].values - 297) / 10\n",
    "zs_norm = (np.log(np.ones(wspd_lognorm.shape) * 45) - 3) / 0.1\n",
    "skin_temp = (data.loc[:, 'skin_potential_temperature:0_m:K'] - 297) / 10\n",
    "\n",
    "pred_data_45 = np.vstack([wspd_lognorm, temp_norm, skin_temp, zs_norm]).T"
   ]
  },
  {
   "cell_type": "code",
   "execution_count": 17,
   "id": "16a58067-50a8-40d5-bc76-604bafc674f8",
   "metadata": {},
   "outputs": [],
   "source": [
    "wspd_lognorm = (np.log(data[\"wind_speed:10_m:m_s-1\"].values) - 1.2) / 0.7\n",
    "temp_norm = (data[\"potential_temperature:10_m:K\"].values - 297) / 10\n",
    "zs_norm = (np.log(np.ones(wspd_lognorm.shape) * 10) - 3) / 0.1\n",
    "skin_temp = (data.loc[:, 'skin_potential_temperature:0_m:K'] - 297) / 10\n",
    "\n",
    "pred_data_10 = np.vstack([wspd_lognorm, temp_norm, skin_temp, zs_norm]).T"
   ]
  },
  {
   "cell_type": "code",
   "execution_count": 18,
   "id": "b7dd61a7-ac84-4fe1-8798-a3e72357c110",
   "metadata": {},
   "outputs": [],
   "source": [
    "outputs_45 = model.predict(pred_data_45)\n",
    "outputs_10 = model.predict(pred_data_10)"
   ]
  },
  {
   "cell_type": "code",
   "execution_count": 19,
   "id": "133bd1f7-f497-4f94-b0eb-ed34cefa409b",
   "metadata": {},
   "outputs": [],
   "source": [
    "outputs_noz_45 = modelnoz.predict(pred_data_45[:, :-1])\n",
    "outputs_noz_10 = modelnoz.predict(pred_data_10[:, :-1])"
   ]
  },
  {
   "cell_type": "code",
   "execution_count": 25,
   "id": "edcd12e8-31ec-4368-948a-bd71d5595b7c",
   "metadata": {},
   "outputs": [
    {
     "data": {
      "text/plain": [
       "Text(0, 0.5, 'Skin Temperature Weights')"
      ]
     },
     "execution_count": 25,
     "metadata": {},
     "output_type": "execute_result"
    },
    {
     "data": {
      "image/png": "[encoded data removed]",
      "text/plain": [
       "<Figure size 432x288 with 2 Axes>"
      ]
     },
     "metadata": {
      "needs_background": "light"
     },
     "output_type": "display_data"
    }
   ],
   "source": [
    "plt.hist2d(model.layers[0].get_weights()[0][1], \n",
    "           model.layers[0].get_weights()[0][2], \n",
    "           bins=np.arange(-1, 1.25, 0.25), cmin=1)\n",
    "plt.colorbar()\n",
    "plt.xlabel(\"Air Temperature Weights\")\n",
    "plt.ylabel(\"Skin Temperature Weights\")"
   ]
  },
  {
   "cell_type": "code",
   "execution_count": 49,
   "id": "638354ec-c537-4a72-ba2e-2fffc7a78fad",
   "metadata": {},
   "outputs": [
    {
     "data": {
      "text/plain": [
       "Text(0.5, 0, 'Z weights')"
      ]
     },
     "execution_count": 49,
     "metadata": {},
     "output_type": "execute_result"
    },
    {
     "data": {
      "image/png": "[encoded data removed]",
      "text/plain": [
       "<Figure size 432x288 with 1 Axes>"
      ]
     },
     "metadata": {
      "needs_background": "light"
     },
     "output_type": "display_data"
    }
   ],
   "source": [
    "plt.hist(model.layers[0].get_weights()[0][3])\n",
    "plt.xlabel(\"Z weights\")"
   ]
  },
  {
   "cell_type": "code",
   "execution_count": 52,
   "id": "140a8b2e-b490-4953-921d-5abd88318d20",
   "metadata": {},
   "outputs": [
    {
     "data": {
      "text/plain": [
       "Text(0.5, 1.0, 'No Z NN')"
      ]
     },
     "execution_count": 52,
     "metadata": {},
     "output_type": "execute_result"
    },
    {
     "data": {
      "image/png": "[encoded data removed]",
      "text/plain": [
       "<Figure size 720x360 with 2 Axes>"
      ]
     },
     "metadata": {
      "needs_background": "light"
     },
     "output_type": "display_data"
    }
   ],
   "source": [
    "plt.figure(figsize=(10, 5))\n",
    "plt.subplot(1, 2, 1)\n",
    "plt.scatter(outputs_45, np.log(data['friction_velocity:surface:m_s-1']), 5)\n",
    "plt.plot(np.arange(-3, 1.1, 0.1), np.arange(-3, 1.1, 0.1), 'k--')\n",
    "plt.ylabel(\"Observed Friction Velocity\")\n",
    "plt.xlim(-5, 1)\n",
    "plt.ylim(-5, 1)\n",
    "plt.xlabel(\"Predicted Friction Velocity\")\n",
    "plt.title(\"Z NN\")\n",
    "plt.subplot(1, 2, 2)\n",
    "plt.scatter(outputs_noz_45, np.log(data['friction_velocity:surface:m_s-1']), 5)\n",
    "plt.plot(np.arange(-3, 1.1, 0.1), np.arange(-3, 1.1, 0.1), 'k--')\n",
    "plt.xlim(-5, 1)\n",
    "plt.ylim(-5, 1)\n",
    "plt.xlabel(\"Predicted Friction Velocity\")\n",
    "plt.title(\"No Z NN\")\n"
   ]
  },
  {
   "cell_type": "code",
   "execution_count": 31,
   "id": "986503ed-e06a-4ac4-b552-6d82a5a6a284",
   "metadata": {},
   "outputs": [
    {
     "data": {
      "text/plain": [
       "(-5.0, 1.0)"
      ]
     },
     "execution_count": 31,
     "metadata": {},
     "output_type": "execute_result"
    },
    {
     "data": {
      "image/png": "[encoded data removed]",
      "text/plain": [
       "<Figure size 720x360 with 2 Axes>"
      ]
     },
     "metadata": {
      "needs_background": "light"
     },
     "output_type": "display_data"
    }
   ],
   "source": [
    "plt.figure(figsize=(10, 5))\n",
    "plt.subplot(1, 2, 1)\n",
    "plt.scatter(outputs_10, np.log(data['friction_velocity:surface:m_s-1']), 5)\n",
    "plt.plot(np.arange(-3, 1.1, 0.1), np.arange(-3, 1.1, 0.1), 'k--')\n",
    "plt.xlim(-5, 1)\n",
    "plt.ylim(-5, 1)\n",
    "plt.subplot(1, 2, 2)\n",
    "plt.scatter(outputs_noz_10, np.log(data['friction_velocity:surface:m_s-1']), 5)\n",
    "plt.plot(np.arange(-3, 1.1, 0.1), np.arange(-3, 1.1, 0.1), 'k--')\n",
    "plt.xlim(-5, 1)\n",
    "plt.ylim(-5, 1)"
   ]
  },
  {
   "cell_type": "code",
   "execution_count": 32,
   "id": "41c59d10-76a0-49d7-be6e-097ade7657f3",
   "metadata": {},
   "outputs": [
    {
     "data": {
      "text/plain": [
       "(array([8.0000e+00, 7.7000e+01, 5.8100e+02, 2.1070e+03, 3.4600e+03,\n",
       "        8.9210e+03, 1.4907e+04, 5.7230e+03, 1.2510e+03, 1.2800e+02]),\n",
       " array([-1.4372352 , -1.2053367 , -0.97343826, -0.7415397 , -0.50964123,\n",
       "        -0.27774274, -0.04584425,  0.18605426,  0.41795275,  0.64985126,\n",
       "         0.88174975], dtype=float32),\n",
       " <BarContainer object of 10 artists>)"
      ]
     },
     "execution_count": 32,
     "metadata": {},
     "output_type": "execute_result"
    },
    {
     "data": {
      "image/png": "[encoded data removed]",
      "text/plain": [
       "<Figure size 432x288 with 1 Axes>"
      ]
     },
     "metadata": {
      "needs_background": "light"
     },
     "output_type": "display_data"
    }
   ],
   "source": [
    "plt.hist(outputs_45-outputs_10)"
   ]
  },
  {
   "cell_type": "code",
   "execution_count": null,
   "id": "7bb4acbb-c8b3-4ab3-951c-16a325ed4bc3",
   "metadata": {},
   "outputs": [],
   "source": []
  },
  {
   "cell_type": "code",
   "execution_count": 34,
   "id": "cb99405e-895c-46e1-b63c-f2a26d6bb9a5",
   "metadata": {},
   "outputs": [
    {
     "data": {
      "text/plain": [
       "0.17723481054828494"
      ]
     },
     "execution_count": 34,
     "metadata": {},
     "output_type": "execute_result"
    }
   ],
   "source": [
    "np.mean((outputs_10.ravel() - np.log(data['friction_velocity:surface:m_s-1'].values)) **2)"
   ]
  },
  {
   "cell_type": "code",
   "execution_count": 36,
   "id": "b16fa874-bdc7-4a89-ac31-a807146f0137",
   "metadata": {},
   "outputs": [
    {
     "data": {
      "text/plain": [
       "0.1545728907645095"
      ]
     },
     "execution_count": 36,
     "metadata": {},
     "output_type": "execute_result"
    }
   ],
   "source": [
    "np.mean((outputs_noz_10.ravel() - np.log(data['friction_velocity:surface:m_s-1'].values)) **2)"
   ]
  },
  {
   "cell_type": "code",
   "execution_count": 176,
   "id": "7e5bcb26-2908-4109-b65b-bff921a7c11e",
   "metadata": {},
   "outputs": [
    {
     "data": {
      "text/plain": [
       "array([[  7.        , 278.91152062],\n",
       "       [  5.7       , 279.87928402],\n",
       "       [  5.5       , 280.67769661],\n",
       "       ...,\n",
       "       [  1.4       , 275.86378573],\n",
       "       [  1.3       , 275.64339507],\n",
       "       [  0.6       , 275.30384876]])"
      ]
     },
     "execution_count": 176,
     "metadata": {},
     "output_type": "execute_result"
    }
   ],
   "source": [
    "data[[\"wind_speed:15_m:m_s-1\", \"potential_temperature:15_m:K\"]].values"
   ]
  },
  {
   "cell_type": "code",
   "execution_count": 378,
   "id": "7d0bab0f-173f-4116-8d37-7e0610e00eec",
   "metadata": {},
   "outputs": [
    {
     "data": {
      "text/plain": [
       "4563   -0.559388\n",
       "Name: friction_velocity:surface:m_s-1, dtype: float64"
      ]
     },
     "execution_count": 378,
     "metadata": {},
     "output_type": "execute_result"
    }
   ],
   "source": [
    "np.log(data.loc[row, 'friction_velocity:surface:m_s-1'])"
   ]
  },
  {
   "cell_type": "code",
   "execution_count": 388,
   "id": "389dc770-6a61-4502-8754-b5c47f258b89",
   "metadata": {},
   "outputs": [],
   "source": []
  },
  {
   "cell_type": "code",
   "execution_count": 427,
   "id": "fb4bf50f-d3f0-4967-8da4-3a4a77037c0c",
   "metadata": {},
   "outputs": [],
   "source": [
    "pub_data = pd.read_csv(\"/Users/dgagne/data/WebOfScience_AI_ML_Atmos_Meteorology.txt\", sep=\"\\t\").sort_values(\"Publication Years\")"
   ]
  },
  {
   "cell_type": "code",
   "execution_count": 488,
   "id": "3c7f6913-a495-4be1-b715-e182575860ff",
   "metadata": {},
   "outputs": [
    {
     "data": {
      "image/png": "[encoded data removed]",
      "text/plain": [
       "<Figure size 360x216 with 1 Axes>"
      ]
     },
     "metadata": {
      "needs_background": "light"
     },
     "output_type": "display_data"
    }
   ],
   "source": [
    "plt.figure(figsize=(5, 3))\n",
    "plt.rcParams[\"font.family\"] = \"arial\"\n",
    "plt.semilogy(pub_data[\"Publication Years\"][:-1], pub_data[\"Record Count\"][:-1], color='#0343DF', marker='o', markeredgecolor='k')\n",
    "plt.xlabel(\"Year\", fontsize=12)\n",
    "plt.ylabel(\"Annual Publication Count\", fontsize=12)\n",
    "#plt.plot(pub_data[\"Publication Years\"][:-1], np.ones(pub_data[\"Publication Years\"][:-1].size) * 10, 'k--')\n",
    "plt.grid()\n",
    "plt.text(2018, 516, \"516\")\n",
    "plt.ylim(0.8, 1000)\n",
    "plt.title(\"Web of Science AI/ML + Meteorology/Atmospheric Science\")\n",
    "plt.text(2005, 1, \"Data Courtesy Randy Chase\", fontsize=8)\n",
    "plt.savefig(\"/Users/dgagne/aiml_papers.png\", dpi=300, bbox_inches=\"tight\", facecolor=\"w\")"
   ]
  },
  {
   "cell_type": "code",
   "execution_count": 503,
   "id": "f002e45f-12fd-49eb-b3e4-ac330f449c98",
   "metadata": {},
   "outputs": [
    {
     "data": {
      "text/plain": [
       "array([ 0.71428571, -0.29166667,  1.82352941,  0.10416667,  0.20754717,\n",
       "        0.65625   ,  0.73584906,  0.8423913 ,  0.52212389])"
      ]
     },
     "execution_count": 503,
     "metadata": {},
     "output_type": "execute_result"
    }
   ],
   "source": [
    "(pub_data[\"Record Count\"].values[-10:-1] - pub_data[\"Record Count\"].values[-11:-2]) / pub_data[\"Record Count\"].values[-11:-2]"
   ]
  },
  {
   "cell_type": "code",
   "execution_count": 505,
   "id": "278fa2d8-bf42-4b0b-b54b-438cc1afb1c6",
   "metadata": {},
   "outputs": [
    {
     "data": {
      "text/plain": [
       "1.6554336562882084"
      ]
     },
     "execution_count": 505,
     "metadata": {},
     "output_type": "execute_result"
    }
   ],
   "source": [
    "np.log(2) / np.log(1 + 0.52)"
   ]
  },
  {
   "cell_type": "code",
   "execution_count": 506,
   "id": "709d20e3-8adc-4e98-a7fc-5dc3da6a9f92",
   "metadata": {},
   "outputs": [],
   "source": [
    "#@jit(nopython=True)\n",
    "def mo_similarity(u10, v10, tsk, t2, qsfc, q2, psfc, mavail=1, z0=0.01, zt0=0.001, z10=10.0, z2=2.0):\n",
    "    \"\"\"\n",
    "    Calculate flux information based on Monin-Obukhov similarity theory.\n",
    "    Args:\n",
    "        u10: 10 m level zonal wind speed [m/s]\n",
    "        v10: 10 m level meridional wind speed [m/s]\n",
    "        tsk: surface skin temperature [K]\n",
    "        t2: 2 m level temperature [K]\n",
    "        qsfc: ground mixing ratio [kg /kg]\n",
    "        q2: 2 m level mixing ratio [kg / kg]\n",
    "        psfc: surface pressure [hPa]\n",
    "        z0: momentum roughness length\n",
    "        zt0: heat flux roughness length\n",
    "        z10: Height of \"10 m\" layer\n",
    "        z2: Height of \"2 m\" layer\n",
    "    Returns:\n",
    "        ustar: friction velocity\n",
    "        tstar: temperature scale\n",
    "        wthv0: -ustar * tstar\n",
    "        zeta10: z/L for a z of 10 m. Used for momentum flux\n",
    "        phim10: momentum universal function at 10 m\n",
    "        zeta2: z/L for a z of 2 m.\n",
    "        phih2: sensible heat flux universal function at 2 m.\n",
    "    \"\"\"\n",
    "    if z0 > 0:\n",
    "        z10oz0 = z10 / z0\n",
    "        z2oz0 = z2 / z0\n",
    "        z2ozt0 = z2 / zt0\n",
    "    else:\n",
    "        raise ValueError(\"z0 must be greater than 0\")\n",
    "    # else:\n",
    "    #    sys.exit(\"Surface roughnes, z0, must be greter than 0.!\")\n",
    "    #\n",
    "    # Gravitational acceleration\n",
    "    g = 9.81\n",
    "    #\n",
    "    # Gas constant over spcific heat capacity at constant pressure\n",
    "    r = 287.058\n",
    "    cp = 1005.\n",
    "    rocp = r / cp\n",
    "    #\n",
    "    # Reference pressure and temperature\n",
    "    p0 = 1000.\n",
    "    t0 = 300.\n",
    "    #\n",
    "    # Set M-O parameters based on Dyer 1974 paper\n",
    "    karman = 0.4\n",
    "    beta = 5.0\n",
    "    gamma = 16.0\n",
    "    #\n",
    "    # Air density\n",
    "    rho = psfc / (r * t2)\n",
    "    #\n",
    "    # Potential temperature speed at level 1\n",
    "    th2 = t2 * (p0 / psfc) ** rocp\n",
    "    th0 = tsk * (p0 / psfc) ** rocp\n",
    "    #\n",
    "    # Virtual potential temperature\n",
    "    thv2 = th2 * (1. + 0.61 * q2)\n",
    "    thv0 = th0 * (1. + 0.61 * qsfc)\n",
    "    #\n",
    "    # Small number\n",
    "    epsilon = 1.e-6\n",
    "    #\n",
    "    # Initial values of drag coefficients - neutrally stratified case\n",
    "    cd = karman ** 2 / ((log(z10oz0)) ** 2)\n",
    "    ch = karman ** 2 / ((log(z2ozt0)) ** 2)\n",
    "    cq = karman ** 2 / ((log(z2ozt0)) ** 2)\n",
    "    #\n",
    "    # Initial values of surface friction velocity, temperature scale, and\n",
    "    # heat flux\n",
    "    wind_speed = sqrt(u10 * u10 + v10 * v10)\n",
    "    if wind_speed < 0.1:\n",
    "        wind_speed = 0.1\n",
    "        u10 = 0.1\n",
    "    tauxz = cd * wind_speed * u10\n",
    "    tauyz = cd * wind_speed * v10\n",
    "    ustar = (tauxz ** 2 + tauyz ** 2) ** 0.25\n",
    "\n",
    "    tstar = -ch / ustar * wind_speed * (thv0 - thv2)\n",
    "    qstar = cq / ustar * mavail * wind_speed * (qsfc - q2)\n",
    "    wthv0 = -ustar * tstar\n",
    "    #\n",
    "    # Set stopping criterion\n",
    "    diff = 1.\n",
    "    #\n",
    "    # Set stability functions\n",
    "    psim10 = 0.\n",
    "    psim2 = 0.\n",
    "    psih2 = 0.\n",
    "    psiq2 = 0.\n",
    "    phim10 = 0.\n",
    "    phih2 = 0\n",
    "    #\n",
    "    zeta10 = 0.\n",
    "    zeta2 = 0.\n",
    "    count = 0\n",
    "    while diff > epsilon and count < 100:\n",
    "        #\n",
    "        # Surface friction velocity and temperature scale\n",
    "        tauxz = cd * wind_speed * u10\n",
    "        tauyz = cd * wind_speed * v10\n",
    "        ustar = (tauxz ** 2 + tauyz ** 2) ** 0.25\n",
    "        if ustar < 0.01:\n",
    "            ustar = 0.01\n",
    "        wspd2 = ustar / karman * (log(z2oz0) - psim2)\n",
    "        tstar = -ch / ustar * wspd2 * (thv0 - thv2)\n",
    "        qstar = cq / ustar * mavail * wspd2 * (qsfc - q2)\n",
    "        wthv0 = -ustar * tstar\n",
    "        #\n",
    "        # Compute drag coefficients\n",
    "        cdold = cd\n",
    "        chold = ch\n",
    "        cqold = cq\n",
    "        #\n",
    "        # Neutrally stratified case\n",
    "        if wthv0 == 0:\n",
    "            zeta10 = 0.\n",
    "            zeta2 = 0.\n",
    "            psim10 = 0.\n",
    "            psim2 = 0.\n",
    "            psih2 = 0.\n",
    "            psiq2 = 0.\n",
    "            phim10 = 1.\n",
    "            phih2 = 1.\n",
    "            cd = karman ** 2 / ((log(z10oz0)) ** 2)\n",
    "            ch = karman ** 2 / ((log(z2ozt0)) ** 2)\n",
    "            cq = karman ** 2 / ((log(z2ozt0)) ** 2)\n",
    "        elif abs(wthv0) > 0:\n",
    "            #\n",
    "            # Obukhov length scale\n",
    "            olength = -ustar ** 3 / (karman * g / t0 * wthv0)\n",
    "            if abs(olength) < 10 and olength > 0:\n",
    "                olength = z10\n",
    "            elif abs(olength) < 10 and olength < 0:\n",
    "                olength = -z10\n",
    "            #\n",
    "            # Free convection\n",
    "            # if (olength == 0.):\n",
    "            #    sys.exit(\"Free convection!\")\n",
    "            #\n",
    "            # Monin-Obukhov stability parameter\n",
    "            zeta10 = z10 / olength\n",
    "            zeta2 = z2 / olength\n",
    "            #\n",
    "            # Convective case\n",
    "            if (zeta2 < -epsilon) & (zeta10 >= -2.):\n",
    "                xi10 = 1. / ((1. - gamma * zeta10) ** 0.25)\n",
    "                xi2 = 1. / ((1. - gamma * zeta2) ** 0.25)\n",
    "                psim10 = log(0.5 * (1.0 + xi10 ** 2) * (0.5 * (1.0 + xi10)) ** 2) \\\n",
    "                    - 2. * atan(xi10) + 0.5 * np.pi\n",
    "                psim2 = log(0.5 * (1.0 + xi2 ** 2) * (0.5 * (1.0 + xi2)) ** 2) \\\n",
    "                    - 2. * atan(xi2) + 0.5 * np.pi\n",
    "                psih2 = 2.0 * log(0.5 * (1.0 + xi2 ** 2))\n",
    "                psiq2 = 2.0 * log(0.5 * (1.0 + xi2 ** 2))\n",
    "                phim10 = 1. / ((1. - gamma * zeta10) ** 0.25)\n",
    "                phih2 = 1. / ((1. - gamma * zeta2) ** 0.25)\n",
    "            #\n",
    "            # Stably stratified case\n",
    "            elif (zeta2 > epsilon) & (zeta2 <= 1.):\n",
    "                psim10 = - beta * zeta10\n",
    "                psim2 = - beta * zeta2\n",
    "                psih2 = - beta * zeta2\n",
    "                psiq2 = - beta * zeta2\n",
    "                phim10 = (1. + beta * zeta10)\n",
    "                phih2 = (1. + beta * zeta2)\n",
    "            #\n",
    "            # Neutrally stratified case\n",
    "            elif (zeta2 <= epsilon) & (zeta2 >= -epsilon):\n",
    "                psim10 = 0.\n",
    "                psim2 = 0.\n",
    "                psih2 = 0.\n",
    "                psiq2 = 0.\n",
    "                phim10 = 1.\n",
    "                phih2 = 1.\n",
    "            #\n",
    "            cd = karman ** 2 / ((log(z10oz0) - psim10) ** 2)\n",
    "            ch = karman ** 2 / ((log(z2ozt0) - psim2) * (log(z2ozt0) - psih2))\n",
    "            cq = karman ** 2 / ((log(z2ozt0) - psim2) * (log(z2ozt0) - psiq2))\n",
    "        #\n",
    "        diff = abs(cd - cdold) + abs(ch - chold) + abs(cq - cqold)\n",
    "        count += 1\n",
    "    #\n",
    "    return ustar, tstar, qstar, wthv0, zeta10, phim10, zeta2, phih2"
   ]
  },
  {
   "cell_type": "code",
   "execution_count": null,
   "id": "37337678-cc3e-464b-8876-29a7e8be79e2",
   "metadata": {},
   "outputs": [],
   "source": []
  }
 ],
 "metadata": {
  "kernelspec": {
   "display_name": "Python 3 (ipykernel)",
   "language": "python",
   "name": "python3"
  },
  "language_info": {
   "codemirror_mode": {
    "name": "ipython",
    "version": 3
   },
   "file_extension": ".py",
   "mimetype": "text/x-python",
   "name": "python",
   "nbconvert_exporter": "python",
   "pygments_lexer": "ipython3",
   "version": "3.8.10"
  }
 },
 "nbformat": 4,
 "nbformat_minor": 5
}
