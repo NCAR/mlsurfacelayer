{
 "cells": [
  {
   "cell_type": "code",
   "execution_count": 1,
   "metadata": {},
   "outputs": [],
   "source": [
    "%matplotlib inline\n",
    "import numpy as np\n",
    "import pandas as pd\n",
    "import matplotlib.pyplot as plt\n",
    "from sklearn.linear_model import LinearRegression\n",
    "from os.path import join\n",
    "from glob import glob\n",
    "import datetime"
   ]
  },
  {
   "cell_type": "code",
   "execution_count": 2,
   "metadata": {},
   "outputs": [
    {
     "data": {
      "text/plain": [
       "['/d1/data/FDR-Idaho_csv/FRD_ECFlux_2015.csv',\n",
       " '/d1/data/FDR-Idaho_csv/FRD_ECFlux_2016.csv',\n",
       " '/d1/data/FDR-Idaho_csv/FRD_ECFlux_2015-2017.csv',\n",
       " '/d1/data/FDR-Idaho_csv/FRD_ECFlux_2017.csv']"
      ]
     },
     "execution_count": 2,
     "metadata": {},
     "output_type": "execute_result"
    }
   ],
   "source": [
    "data_path = \"/d1/data/FDR-Idaho_csv/\"\n",
    "glob(data_path + \"*.csv\")\n",
    "#data_path = \"/d1/data/FDR-Idaho/\"\n",
    "#glob(data_path + \"*.csv\")"
   ]
  },
  {
   "cell_type": "code",
   "execution_count": 3,
   "metadata": {},
   "outputs": [],
   "source": [
    "idaho_flux_data = pd.read_csv('/d1/data/FDR-Idaho_csv/FRD_ECFlux_2015-2017.csv')\n",
    "idaho_met_data = pd.read_csv('/d1/mccandle/FRD_TallTower_Met_2015-2017.csv')"
   ]
  },
  {
   "cell_type": "code",
   "execution_count": 4,
   "metadata": {},
   "outputs": [
    {
     "name": "stdout",
     "output_type": "stream",
     "text": [
      "(42637, 11)\n",
      "(52608, 11)\n",
      "(295101, 44)\n",
      "(315648, 44)\n"
     ]
    }
   ],
   "source": [
    "idaho_flux_no_missing = idaho_flux_data.replace(-9999.0, np.NaN).dropna(axis=0,how='any')\n",
    "print(idaho_flux_no_missing.shape)\n",
    "print(idaho_flux_data.shape)\n",
    "idaho_met_no_missing = idaho_met_data.replace(-999.0, np.NaN).dropna(axis=0,how='any')\n",
    "print(idaho_met_no_missing.shape)\n",
    "print(idaho_met_data.shape)"
   ]
  },
  {
   "cell_type": "code",
   "execution_count": 5,
   "metadata": {},
   "outputs": [],
   "source": [
    "#print(idaho_flux_no_missing['h2o_flux'].min())"
   ]
  },
  {
   "cell_type": "code",
   "execution_count": 6,
   "metadata": {},
   "outputs": [
    {
     "name": "stdout",
     "output_type": "stream",
     "text": [
      "date\n",
      "time\n",
      "DOY\n",
      "daytime\n",
      "Tau\n",
      "H\n",
      "LE\n",
      "co2_flux\n",
      "h2o_flux\n",
      "air_density\n",
      "air_heat_capacity\n",
      "1/1/2015\n",
      "1:30\n"
     ]
    }
   ],
   "source": [
    "for col in idaho_flux_data.columns:\n",
    "    print(col)\n",
    "    \n",
    "    \n",
    "print(idaho_flux_data['date'][2])\n",
    "print(idaho_flux_data['time'][2])"
   ]
  },
  {
   "cell_type": "code",
   "execution_count": 7,
   "metadata": {
    "scrolled": true
   },
   "outputs": [
    {
     "name": "stdout",
     "output_type": "stream",
     "text": [
      "Year\n",
      "Month\n",
      "Day\n",
      "Hour\n",
      "Minute\n",
      "2m Wind Speed m/s\n",
      "2m Wind Gust m/s\n",
      "2m Wind Dir deg\n",
      "2m Sigma Theta deg\n",
      "10m Wind Speed m/s\n",
      "10m Wind Gust m/s\n",
      "10m Wind Dir deg\n",
      "10m Sigma Theta deg\n",
      "15m Wind Speed m/s\n",
      "15m Wind Gust m/s\n",
      "15m Wind Dir deg\n",
      "15m Sigma Theta deg\n",
      "45m Wind Speed m/s\n",
      "45m Wind Gust m/s\n",
      "45m Wind Dir deg\n",
      "45m Sigma Theta deg\n",
      "Top Wind Speed m/s\n",
      "Top Wind Gust m/s\n",
      "Top Wind Dir deg\n",
      "Top Sigma Theta deg\n",
      "2m Temp C\n",
      "10m Temp C\n",
      "15m Temp C\n",
      "45m Temp C\n",
      "Top Temp C\n",
      "2m RH %\n",
      "Solar Rad w/m^2\n",
      "BP inches Hg\n",
      "Rain inches\n",
      "5cm Water Content\n",
      "10cm Water Content\n",
      "20cm Water Content\n",
      "50cm Water Content\n",
      "100cm Water Content\n",
      "5cm Soil Temp C\n",
      "10cm Soil Temp C\n",
      "20cm Soil Temp C\n",
      "50cm Soil Temp C\n",
      "100cm Soil Temp C\n"
     ]
    }
   ],
   "source": [
    "for col in idaho_met_data.columns:\n",
    "    print(col)"
   ]
  },
  {
   "cell_type": "code",
   "execution_count": 8,
   "metadata": {},
   "outputs": [
    {
     "name": "stdout",
     "output_type": "stream",
     "text": [
      "1   2015-01-01 00:10:00\n",
      "2   2015-01-01 00:15:00\n",
      "Name: DateTime, dtype: datetime64[ns]\n",
      "1   2015-01-01 01:00:00\n",
      "2   2015-01-01 01:30:00\n",
      "Name: DateTime, dtype: datetime64[ns]\n",
      "       Year  Month  Day  Hour  Minute  2m Wind Speed m/s  2m Wind Gust m/s  \\\n",
      "0      2015      1    1     0      30                0.9               1.4   \n",
      "1      2015      1    1     1       0                1.3               1.6   \n",
      "2      2015      1    1     1      30                1.4               1.6   \n",
      "3      2015      1    1     2       0                0.7               1.0   \n",
      "4      2015      1    1     2      30                1.3               1.4   \n",
      "5      2015      1    1     3       0                0.9               1.1   \n",
      "6      2015      1    1     3      30                1.5               1.8   \n",
      "7      2015      1    1     4       0                1.1               1.4   \n",
      "8      2015      1    1     4      30                0.5               0.9   \n",
      "9      2015      1    1     5       0                1.4               1.6   \n",
      "10     2015      1    1     5      30                1.2               1.4   \n",
      "11     2015      1    1     6       0                0.8               1.2   \n",
      "12     2015      1    1     6      30                1.4               1.8   \n",
      "13     2015      1    1     7       0                0.5               0.8   \n",
      "14     2015      1    1     7      30                1.2               1.5   \n",
      "15     2015      1    1     8       0                1.0               1.4   \n",
      "16     2015      1    1     8      30                0.7               1.0   \n",
      "17     2015      1    1     9       0                0.9               1.1   \n",
      "18     2015      1    1     9      30                1.2               1.7   \n",
      "19     2015      1    1    10       0                1.5               1.9   \n",
      "20     2015      1    1    10      30                1.4               1.9   \n",
      "21     2015      1    1    11       0                1.7               2.2   \n",
      "22     2015      1    1    11      30                2.1               2.8   \n",
      "23     2015      1    1    12       0                1.8               2.5   \n",
      "24     2015      1    1    12      30                1.6               2.3   \n",
      "25     2015      1    1    13       0                1.3               2.0   \n",
      "26     2015      1    1    13      30                1.5               2.1   \n",
      "27     2015      1    1    14       0                1.9               2.9   \n",
      "28     2015      1    1    14      30                1.3               1.9   \n",
      "29     2015      1    1    15       0                1.1               1.6   \n",
      "...     ...    ...  ...   ...     ...                ...               ...   \n",
      "40654  2017     12   31     5      30                0.4               0.8   \n",
      "40655  2017     12   31     6       0                0.7               0.9   \n",
      "40656  2017     12   31     6      30                1.2               1.5   \n",
      "40657  2017     12   31     7       0                0.6               0.9   \n",
      "40658  2017     12   31     7      30                0.6               0.9   \n",
      "40659  2017     12   31     8       0                1.1               1.5   \n",
      "40660  2017     12   31     8      30                1.1               1.4   \n",
      "40661  2017     12   31     9       0                1.9               2.9   \n",
      "40662  2017     12   31     9      30                1.7               2.7   \n",
      "40663  2017     12   31    10       0                2.2               4.2   \n",
      "40664  2017     12   31    10      30                2.2               3.1   \n",
      "40665  2017     12   31    11       0                2.0               3.1   \n",
      "40666  2017     12   31    11      30                1.5               2.3   \n",
      "40667  2017     12   31    12       0                1.4               2.7   \n",
      "40668  2017     12   31    12      30                1.7               2.5   \n",
      "40669  2017     12   31    13       0                1.3               2.2   \n",
      "40670  2017     12   31    13      30                1.5               2.3   \n",
      "40671  2017     12   31    14       0                0.7               1.0   \n",
      "40672  2017     12   31    14      30                1.3               2.5   \n",
      "40673  2017     12   31    15       0                1.4               2.5   \n",
      "40674  2017     12   31    15      30                1.6               2.9   \n",
      "40675  2017     12   31    16       0                1.4               2.3   \n",
      "40676  2017     12   31    16      30                0.7               1.0   \n",
      "40677  2017     12   31    17       0                1.3               1.4   \n",
      "40678  2017     12   31    17      30                1.3               1.6   \n",
      "40679  2017     12   31    18       0                0.7               0.7   \n",
      "40680  2017     12   31    18      30                0.8               0.8   \n",
      "40681  2017     12   31    19       0                0.6               0.9   \n",
      "40682  2017     12   31    19      30                0.6               0.8   \n",
      "40683  2017     12   31    20       0                0.8               0.9   \n",
      "\n",
      "       2m Wind Dir deg  2m Sigma Theta deg  10m Wind Speed m/s  \\\n",
      "0                140.6                15.4                 0.9   \n",
      "1                171.9                 6.3                 2.7   \n",
      "2                204.5                 7.6                 2.7   \n",
      "3                196.4                10.0                 2.2   \n",
      "4                210.6                 4.5                 2.0   \n",
      "5                216.5                17.7                 2.8   \n",
      "6                232.3                 8.0                 3.1   \n",
      "7                254.8                12.5                 2.3   \n",
      "8                148.0                12.7                 1.3   \n",
      "9                192.2                 5.8                 2.6   \n",
      "10               222.9                13.1                 3.0   \n",
      "11               176.7                14.2                 1.3   \n",
      "12               282.6                11.2                 1.8   \n",
      "13                69.4                46.5                 1.4   \n",
      "14               198.0                 5.9                 1.4   \n",
      "15               274.5                26.3                 1.5   \n",
      "16               189.1                 6.0                 1.4   \n",
      "17               223.2                15.5                 1.2   \n",
      "18               278.2                 8.2                 1.6   \n",
      "19               242.6                 9.5                 1.7   \n",
      "20               226.0                17.0                 1.6   \n",
      "21               271.3                19.6                 2.0   \n",
      "22               222.7                13.1                 2.2   \n",
      "23               242.6                16.0                 2.1   \n",
      "24               222.7                18.3                 1.7   \n",
      "25               223.1                29.0                 1.4   \n",
      "26               227.4                16.0                 1.6   \n",
      "27               214.9                15.1                 2.2   \n",
      "28               223.9                15.3                 1.4   \n",
      "29               265.9                19.9                 1.3   \n",
      "...                ...                 ...                 ...   \n",
      "40654            243.1                 5.4                 1.3   \n",
      "40655            357.1                43.8                 2.0   \n",
      "40656            265.7                11.5                 1.2   \n",
      "40657            303.4                13.6                 2.0   \n",
      "40658            350.2                16.1                 1.1   \n",
      "40659            337.9                16.0                 1.3   \n",
      "40660             19.4                16.1                 1.3   \n",
      "40661             15.9                14.5                 2.4   \n",
      "40662             23.4                15.1                 2.1   \n",
      "40663             22.9                17.4                 2.9   \n",
      "40664             40.5                16.6                 2.6   \n",
      "40665             45.4                21.2                 2.4   \n",
      "40666             41.9                25.4                 1.8   \n",
      "40667             45.8                33.4                 1.7   \n",
      "40668             77.7                14.4                 1.7   \n",
      "40669             84.5                43.3                 1.2   \n",
      "40670             97.1                18.2                 1.7   \n",
      "40671            241.5                93.3                 0.8   \n",
      "40672            134.6                34.5                 1.3   \n",
      "40673             77.2                25.0                 1.8   \n",
      "40674             81.0                16.2                 2.0   \n",
      "40675             48.6                24.6                 1.5   \n",
      "40676             10.5                23.3                 0.9   \n",
      "40677             34.9                 3.9                 1.9   \n",
      "40678             39.8                 5.3                 2.6   \n",
      "40679            344.9                 3.2                 1.8   \n",
      "40680            123.1                15.4                 1.5   \n",
      "40681            322.3                 7.7                 1.0   \n",
      "40682            323.4                 1.4                 0.9   \n",
      "40683            307.9                 2.8                 0.7   \n",
      "\n",
      "             ...           time         DOY  daytime       Tau          H  \\\n",
      "0            ...           0:30    1.020833      0.0  0.005270  21.482644   \n",
      "1            ...           1:00    1.041667      0.0  0.003840  -3.610944   \n",
      "2            ...           1:30    1.062500      0.0  0.012000   0.137782   \n",
      "3            ...           2:00    1.083333      0.0  0.011400  -5.579953   \n",
      "4            ...           2:30    1.104167      0.0  0.004000  -2.878481   \n",
      "5            ...           3:00    1.125000      0.0  0.004830  -1.137415   \n",
      "6            ...           3:30    1.145833      0.0  0.007660  -7.669504   \n",
      "7            ...           4:00    1.166667      0.0  0.007990  -7.035809   \n",
      "8            ...           4:30    1.187500      0.0  0.010900   7.382332   \n",
      "9            ...           5:00    1.208333      0.0  0.005920   0.271511   \n",
      "10           ...           5:30    1.229167      0.0  0.007480  -7.505455   \n",
      "11           ...           6:00    1.250000      0.0  0.001860  -1.103594   \n",
      "12           ...           6:30    1.270833      0.0  0.000835   0.027900   \n",
      "13           ...           7:00    1.291667      0.0  0.015100 -15.285966   \n",
      "14           ...           7:30    1.312500      0.0  0.002220  -2.665166   \n",
      "15           ...           8:00    1.333333      1.0  0.003110  -3.741159   \n",
      "16           ...           8:30    1.354167      1.0  0.004110  -2.667066   \n",
      "17           ...           9:00    1.375000      1.0  0.008140   4.540662   \n",
      "18           ...           9:30    1.395833      1.0  0.015900   0.988072   \n",
      "19           ...          10:00    1.416667      1.0  0.027500  16.061072   \n",
      "20           ...          10:30    1.437500      1.0  0.020100  58.561738   \n",
      "21           ...          11:00    1.458333      1.0  0.006940  46.519263   \n",
      "22           ...          11:30    1.479167      1.0  0.031100  73.668133   \n",
      "23           ...          12:00    1.500000      1.0  0.036400  81.203326   \n",
      "24           ...          12:30    1.520833      1.0  0.032100  70.208345   \n",
      "25           ...          13:00    1.541667      1.0  0.022700  81.053675   \n",
      "26           ...          13:30    1.562500      1.0  0.013600  71.351258   \n",
      "27           ...          14:00    1.583333      1.0  0.029300  68.137145   \n",
      "28           ...          14:30    1.604167      1.0  0.074200  79.981022   \n",
      "29           ...          15:00    1.625000      1.0  0.045200  56.147083   \n",
      "...          ...            ...         ...      ...       ...        ...   \n",
      "40654        ...           5:30  365.229167      0.0  0.002890  12.423553   \n",
      "40655        ...           6:00  365.250000      0.0  0.023100 -14.357173   \n",
      "40656        ...           6:30  365.270833      0.0  0.003920  -5.310261   \n",
      "40657        ...           7:00  365.291667      0.0  0.001570  -7.493495   \n",
      "40658        ...           7:30  365.312500      0.0  0.005330  -4.183657   \n",
      "40659        ...           8:00  365.333333      1.0  0.009440  -0.184202   \n",
      "40660        ...           8:30  365.354167      1.0  0.012100   7.835644   \n",
      "40661        ...           9:00  365.375000      1.0  0.018800  10.597878   \n",
      "40662        ...           9:30  365.395833      1.0  0.062500  -5.755124   \n",
      "40663        ...          10:00  365.416667      1.0  0.078100  51.812946   \n",
      "40664        ...          10:30  365.437500      1.0  0.075500  26.057918   \n",
      "40665        ...          11:00  365.458333      1.0  0.031700  47.522338   \n",
      "40666        ...          11:30  365.479167      1.0  0.062300  45.569813   \n",
      "40667        ...          12:00  365.500000      1.0  0.064700  41.368326   \n",
      "40668        ...          12:30  365.520833      1.0  0.009240  40.420736   \n",
      "40669        ...          13:00  365.541667      1.0  0.036700  42.281029   \n",
      "40670        ...          13:30  365.562500      1.0  0.035600  43.224108   \n",
      "40671        ...          14:00  365.583333      1.0  0.025500  42.570677   \n",
      "40672        ...          14:30  365.604167      1.0  0.021100  38.106058   \n",
      "40673        ...          15:00  365.625000      1.0  0.024900  41.841607   \n",
      "40674        ...          15:30  365.645833      1.0  0.044100  48.706883   \n",
      "40675        ...          16:00  365.666667      1.0  0.018300  25.250442   \n",
      "40676        ...          16:30  365.687500      1.0  0.021900  10.866696   \n",
      "40677        ...          17:00  365.708333      0.0  0.003690  -3.457850   \n",
      "40678        ...          17:30  365.729167      0.0  0.003160   1.170863   \n",
      "40679        ...          18:00  365.750000      0.0  0.000811  -1.761396   \n",
      "40680        ...          18:30  365.770833      0.0  0.002480  -0.382999   \n",
      "40681        ...          19:00  365.791667      0.0  0.001840   3.645196   \n",
      "40682        ...          19:30  365.812500      0.0  0.003400  -0.326188   \n",
      "40683        ...          20:00  365.833333      0.0  0.014000   1.208748   \n",
      "\n",
      "              LE  co2_flux           h2o_flux  air_density  air_heat_capacity  \n",
      "0       0.959520 -0.037900           2.08E-02     1.208903        1005.503179  \n",
      "1      -0.572738  0.225649          -1.24E-02     1.209117        1005.501986  \n",
      "2      -0.511337  0.208654          -1.11E-02     1.204753        1005.491911  \n",
      "3      -0.711986  0.104146          -1.54E-02     1.203104        1005.481754  \n",
      "4      -0.442386  0.008580          -9.58E-03     1.203842        1005.471119  \n",
      "5      -0.283030  0.085600          -6.13E-03     1.206712        1005.464007  \n",
      "6      -0.635217 -0.061800          -1.38E-02     1.206363        1005.569201  \n",
      "7      -0.504381 -0.069400          -1.09E-02     1.205029        1005.562107  \n",
      "8       0.308974  0.161782           6.69E-03     1.206746        1005.459329  \n",
      "9      -0.068600  0.103610          -1.48E-03     1.206050        1005.554808  \n",
      "10     -0.477445 -0.085200          -1.03E-02     1.203406        1005.550922  \n",
      "11     -0.130953  0.014400          -2.84E-03     1.203081        1005.561890  \n",
      "12     -0.049500  0.007260          -1.07E-03     1.205209        1005.536346  \n",
      "13     -1.823891  0.489317          -3.95E-02     1.205952        1005.508519  \n",
      "14     -0.118465  0.184172          -2.57E-03     1.203602        1005.505083  \n",
      "15     -0.547788  0.056000          -1.19E-02     1.200778        1005.458911  \n",
      "16     -0.525028  0.131100          -1.14E-02     1.196002        1005.440533  \n",
      "17     -0.101862 -0.029500          -2.21E-03     1.186257        1005.472309  \n",
      "18     -0.529482 -0.398044          -1.15E-02     1.176442        1005.527947  \n",
      "19     -0.672929 -0.754585          -1.47E-02     1.167630        1005.406008  \n",
      "20      1.182697 -0.076400           2.59E-02     1.157543        1005.272593  \n",
      "21     -4.306149 -0.711806          -9.44E-02     1.144104        1005.330860  \n",
      "22     19.748307 -2.023220  0.434212191538523     1.131554        1005.711575  \n",
      "23      6.163782 -1.392992  0.135441960861104     1.133317        1006.014780  \n",
      "24      4.696168 -1.232709  0.103337662250162     1.126596        1006.084254  \n",
      "25      5.460770 -1.192849  0.120211579433589     1.124260        1006.102231  \n",
      "26      5.207797 -1.022191  0.114760002120343     1.119512        1006.117724  \n",
      "27      4.521446 -1.137019           9.95E-02     1.122933        1006.118627  \n",
      "28      4.786247 -2.134029  0.105309570301103     1.125597        1006.127734  \n",
      "29      3.276711 -1.191279           7.22E-02     1.117906        1006.148604  \n",
      "...          ...       ...                ...          ...                ...  \n",
      "40654   3.993488 -0.378152           8.73E-02     1.160719        1006.314721  \n",
      "40655  -1.783116  0.443259          -3.90E-02     1.160140        1006.352848  \n",
      "40656  -0.517071  0.053500          -1.13E-02     1.158532        1006.391751  \n",
      "40657  -0.070700  0.089500          -1.54E-03     1.167667        1005.587113  \n",
      "40658  -1.272272 -0.199594          -2.78E-02     1.160543        1005.581779  \n",
      "40659   0.210488  0.000076           4.60E-03     1.161668        1005.602289  \n",
      "40660   0.205366 -0.157240           4.49E-03     1.161156        1005.602855  \n",
      "40661   0.987597 -0.016200           2.16E-02     1.160917        1005.610755  \n",
      "40662   0.712723  0.033700           1.56E-02     1.157367        1005.580731  \n",
      "40663   2.982745 -0.033600           6.53E-02     1.153793        1005.569304  \n",
      "40664   5.533044  0.098100  0.121342360538488     1.146516        1005.449396  \n",
      "40665   1.448420  0.023800           3.18E-02     1.145047        1005.434501  \n",
      "40666   4.999730  0.100370  0.109801190496329     1.139984        1005.340035  \n",
      "40667   4.473036  0.111588           9.83E-02     1.138171        1005.305645  \n",
      "40668   4.312899  0.063700           9.48E-02     1.136566        1005.278335  \n",
      "40669   5.056779  0.054100  0.111161878075403     1.134656        1005.245629  \n",
      "40670   6.897434 -0.038700  0.151647601095783     1.133538        1005.229020  \n",
      "40671   6.157710  0.096000  0.135398532806673     1.132653        1005.216773  \n",
      "40672   5.071315  0.037500  0.111553092288283     1.130510        1007.438772  \n",
      "40673   6.664122  0.130883  0.146608161015912     1.129851        1007.453761  \n",
      "40674   5.020878 -0.044900  0.110510507924046     1.127517        1007.553859  \n",
      "40675   1.155488  0.148313           2.54E-02     1.126973        1007.516455  \n",
      "40676   5.912082  0.019800  0.130118872736623     1.127899        1007.520384  \n",
      "40677  -1.401850  0.020100          -3.08E-02     1.128732        1007.403688  \n",
      "40678   1.316071  0.006310           2.89E-02     1.132247        1007.205831  \n",
      "40679  -0.067600  0.032900          -1.49E-03     1.138838        1007.013130  \n",
      "40680   0.175622 -0.018500           3.86E-03     1.138935        1007.021899  \n",
      "40681   2.080241 -0.087200           4.56E-02     1.143953        1006.868825  \n",
      "40682   1.146037  0.134537           2.51E-02     1.150488        1006.676698  \n",
      "40683   0.046600 -0.028100           1.02E-03     1.157131        1005.548700  \n",
      "\n",
      "[40684 rows x 56 columns]\n"
     ]
    }
   ],
   "source": [
    "idaho_met_no_missing['Year'].astype(int)\n",
    "idaho_met_no_missing['Month'].astype(int)\n",
    "idaho_met_no_missing['Day'].astype(int)\n",
    "idaho_met_no_missing['Hour'].astype(int)\n",
    "idaho_met_no_missing['Minute'].astype(int)\n",
    "\n",
    "year = idaho_met_no_missing.iloc[1:,0]\n",
    "month = idaho_met_no_missing.iloc[1:,1]\n",
    "day = idaho_met_no_missing.iloc[1:,2]\n",
    "hour = idaho_met_no_missing.iloc[1:,3]\n",
    "minute = idaho_met_no_missing.iloc[1:,4]\n",
    "\n",
    "#idaho_met_no_missing['date'] = pd.to_datetime((idaho_met_no_missing.Year*10000+idaho_met_no_missing.Month*100+idaho_met_no_missing.Day).apply(str),format='%Y%M%d')\n",
    "#print(idaho_met_no_missing['date'][1:3])\n",
    "\n",
    "idaho_met_no_missing['DateTime'] = idaho_met_no_missing[['Year', 'Month', 'Day', 'Hour','Minute']].apply(lambda s : datetime.datetime(*s),axis = 1)\n",
    "print(idaho_met_no_missing['DateTime'][1:3])\n",
    "\n",
    "idaho_flux_no_missing['DateTime'] = idaho_flux_no_missing.date.apply(lambda x: pd.to_datetime(x).strftime('%Y-%m-%d'))\n",
    "#idaho_flux_no_missing['DateTime3'] = idaho_flux_no_missing.time.apply(lambda y: pd.to_datetime(y).strftime('%h:m'))\n",
    "#idaho_flux_no_missing['DateTime2'] = pd.to_datetime(idaho_flux_no_missing.DateTime) \n",
    "#print(idaho_flux_no_missing['DateTime3'][-5:-1])\n",
    "\n",
    "idaho_flux_no_missing['DateTime'] = idaho_flux_no_missing['DateTime'] + ' ' + idaho_flux_no_missing['time']\n",
    "#print(idaho_flux_no_missing['Test'][-5:-1])\n",
    "#idaho_flux_no_missing['DateTime'] = idaho_flux_no_missing.Test.apply(lambda x: pd.to_datetime(x).strftime('%Y-%m-%d %H:%M:%S'))\n",
    "idaho_flux_no_missing['DateTime'] = pd.to_datetime(idaho_flux_no_missing['DateTime'])\n",
    "print(idaho_flux_no_missing['DateTime'][1:3])\n",
    "\n",
    "result = pd.merge(idaho_met_no_missing,idaho_flux_no_missing,on='DateTime')\n",
    "print(result)"
   ]
  },
  {
   "cell_type": "code",
   "execution_count": 9,
   "metadata": {},
   "outputs": [
    {
     "name": "stdout",
     "output_type": "stream",
     "text": [
      "983.3962354678191\n"
     ]
    }
   ],
   "source": [
    "test3 = np.array(result['air_heat_capacity'])\n",
    "print(np.min(test3))"
   ]
  },
  {
   "cell_type": "code",
   "execution_count": 10,
   "metadata": {},
   "outputs": [],
   "source": [
    "# Unit Conversion from C to K\n",
    "def celsius_to_kelvin(temperature_c):\n",
    "    return temperature_c + 273.15\n",
    "\n",
    "# Unit Conversion from wind speed to wind components\n",
    "def wind_components(wind_speed_m_s, wind_direction_degrees):\n",
    "    math_dir = 270 - wind_direction_degrees\n",
    "    math_dir[math_dir < 0] = 360 + math_dir[math_dir < 0]\n",
    "    u = wind_speed_m_s * np.cos(np.radians(math_dir))\n",
    "    v = wind_speed_m_s * np.sin(np.radians(math_dir))\n",
    "    return u, v\n",
    "\n",
    "# Unit Conversion from temperature and pressure to potential temperature\n",
    "def inHg_to_hpa(pressure_inHg):\n",
    "    \"\"\"\n",
    "    Convert pressure in inches of mercury (inHg) to pressure in hectopascals (hpa)\n",
    "\n",
    "    Args:\n",
    "        pressure_inHg: The air pressure in units inHg\n",
    "\n",
    "    Returns:\n",
    "        The air pressure in units hpa\n",
    "    \"\"\"\n",
    "    return pressure_inHg * 33.86\n",
    "\n",
    "def potential_temperature(temperature_k, pressure_hpa, pressure_reference_hpa=1000.0):\n",
    "    \"\"\"\n",
    "    Convert temperature to potential temperature based on the available pressure. Potential temperature is at a\n",
    "    reference pressure of 1000 mb.\n",
    "\n",
    "    Args:\n",
    "        temperature_k: The air temperature in units K\n",
    "        pressure_hpa: The atmospheric pressure in units hPa\n",
    "        pressure_reference_hpa: The reference atmospheric pressure for the potential temperature in hPa;\n",
    "            default 1000 hPa\n",
    "\n",
    "    Returns:\n",
    "        The potential temperature in units K\n",
    "    \"\"\"\n",
    "    return temperature_k * (pressure_reference_hpa / pressure_hpa) ** (2.0 / 7.0)\n",
    "\n",
    "def friction_velocity(tau, density):\n",
    "    \"\"\"\n",
    "    Compute friction velocity from tau and air density.\n",
    "\n",
    "    Args:\n",
    "        tau: The surface stress\n",
    "        pressure_hpa: The atmospheric density in kg/m^3\n",
    "\n",
    "    Returns:\n",
    "        The friction velocity\n",
    "    \"\"\"\n",
    "    u2 = np.array(result['Tau']) / np.array(result['air_density'])\n",
    "    fv = np.sqrt(tau/density)\n",
    "    return fv\n",
    "\n",
    "def temperature_scale(sensible_heat_flux_W_m2, air_density_kg_m3, friction_velocity_m_s):\n",
    "    \"\"\"\n",
    "    Caclulate the temperature turbulence scale value theta* from the sensible heat flux.\n",
    "\n",
    "    Args:\n",
    "        sensible_heat_flux_W_m2: The sensible heat flux in units W m-2.\n",
    "        air_density_kg_m3: The density of air in units kg m-3.\n",
    "        friction_velocity_m_s: The friction velocity in units m s-1.\n",
    "\n",
    "    Returns:\n",
    "        The temperature turbulence scale value in units K.\n",
    "    \"\"\"\n",
    "    return -sensible_heat_flux_W_m2 / (air_density_kg_m3 * 287.0 * 7.0 / 2.0 * friction_velocity_m_s)\n",
    "\n",
    "def virtual_temperature(temperature_k, mixing_ratio_g_kg):\n",
    "    \"\"\"\n",
    "    Convert temperature and mixing ratio to virtual temperature.\n",
    "\n",
    "    Args:\n",
    "        temperature_k: The temperature or potential temperature in units K.\n",
    "        mixing_ratio_kg_kg: The mixing ratio in units kg kg-1.\n",
    "\n",
    "    Returns:\n",
    "        The virtual temperature in units K.\n",
    "    \"\"\"\n",
    "    return temperature_k * (1 + 0.61 * mixing_ratio_g_kg / 1000.0)\n",
    "\n",
    "def moisture_scale(latent_heat_flux_W_m2, air_density_kg_m3, friction_velocity_m_s):\n",
    "    \"\"\"\n",
    "    Calculate the turblulent moisture scale factor from the latent heat flux.\n",
    "\n",
    "    Args:\n",
    "        latent_heat_flux_W_m2: Latent heat flux in units W m-2\n",
    "        air_density_kg_m3: Density of air in units kg m-3\n",
    "        friction_velocity_m_s: The friction velocity (u*) in units m s-1\n",
    "\n",
    "    Returns:\n",
    "        The turbulent moisture scale factor in g kg-1\n",
    "    \"\"\"\n",
    "    latent_heat_of_vaporization_J_kg = 2264705.0  # J kg-1\n",
    "    return latent_heat_flux_W_m2 / (latent_heat_of_vaporization_J_kg * air_density_kg_m3 * friction_velocity_m_s) * 1000\n",
    "\n",
    "def obukhov_length(potential_temperature_k, temperature_scale_k, friction_velocity_m_s, von_karman_constant=0.4):\n",
    "    \"\"\"\n",
    "    Caclulates the Obukhov length, a measure of stability based on the friction velocity and temperature scale.\n",
    "\n",
    "    Args:\n",
    "        potential_temperature_k: The potential temperature in units K\n",
    "        temperature_scale_k: The turbulent temperature scale (theta*) in units K\n",
    "        friction_velocity_m_s: The friction velocity (u*) in units m s-1\n",
    "        von_karman_constant: The von Karman constant (default=0.4)\n",
    "\n",
    "    Returns:\n",
    "        The Obukhov length in units m.\n",
    "    \"\"\"\n",
    "    g = 9.81 # m s-2\n",
    "    return friction_velocity_m_s ** 2 * potential_temperature_k / (von_karman_constant * g * temperature_scale_k)\n",
    "\n",
    "\n",
    "def mixing_ratio(temp_2m_C, relative_humidity, pressure_hpa):\n",
    "    \"\"\"\n",
    "    Calculate the mixing ratio.\n",
    "\n",
    "    Args:\n",
    "        temp_2m_C: 2-meter temperature in units of Celcius\n",
    "        relative humidity: as a percentage\n",
    "        pressure_hpa: atmospheric pressure in hPa\n",
    "\n",
    "    Returns:\n",
    "        The mixing ratio \n",
    "    \"\"\"\n",
    "    saturation_vapor_pressure= 0.6108 * np.exp(17.27 * temp_2m_C / (temp_2m_C + 237.3))\n",
    "    vapor_pressure = relative_humidity / 100 * saturation_vapor_pressure \n",
    "    return 621.97 * vapor_pressure / (pressure_hpa-vapor_pressure), vapor_pressure, saturation_vapor_pressure\n",
    "\n",
    "def bulk_richardson_number(potential_temperature_k, height,\n",
    "                           mixing_ratio_g_kg, virtual_potential_skin_temperature_k, wind_speed_m_s):\n",
    "    \"\"\"\n",
    "    Calculate the bulk Richardson number, a measure of stability.\n",
    "\n",
    "    Args:\n",
    "        potential_temperature_k: The potential or virtual potential temperature in K\n",
    "        height: The height at which the potential temperature calculation is performed in m.\n",
    "        mixing_ratio_kg_kg: The mixing ratio at the same height as the potential temperature in units kg kg-1.\n",
    "        virtual_potential_skin_temperature_k: The virtual potential temperature at the surface\n",
    "        wind_speed_m_s: The wind speed in m s-1\n",
    "\n",
    "    Returns:\n",
    "\n",
    "    \"\"\"\n",
    "    g = 9.81  # m s-2\n",
    "    virtual_potential_temperature_k = virtual_temperature(potential_temperature_k, mixing_ratio_g_kg)\n",
    "    return g / potential_temperature_k * height * (virtual_potential_temperature_k\n",
    "                                                   - virtual_potential_skin_temperature_k) / wind_speed_m_s ** 2\n",
    "\n",
    "\n",
    "# Need to convert Idaho data from celsius to kelvin\n",
    "result['2m Temp K'] = celsius_to_kelvin(result['2m Temp C'])\n",
    "result['10m Temp K'] = celsius_to_kelvin(result['10m Temp C'])\n",
    "result['15m Temp K'] = celsius_to_kelvin(result['15m Temp C'])\n",
    "result['45m Temp K'] = celsius_to_kelvin(result['45m Temp C'])\n",
    "\n",
    "# Need to convert Idaho data to wind components from speed and direction\n",
    "result['2m U-Wind m/s'],result['2m V-Wind m/s'] = wind_components(result['2m Wind Speed m/s'],result['2m Wind Dir deg'])\n",
    "result['10m U-Wind m/s'],result['10m V-Wind m/s'] = wind_components(result['10m Wind Speed m/s'],result['10m Wind Dir deg'])\n",
    "result['15m U-Wind m/s'],result['15m V-Wind m/s'] = wind_components(result['15m Wind Speed m/s'],result['15m Wind Dir deg'])\n",
    "result['45m U-Wind m/s'],result['45m V-Wind m/s'] = wind_components(result['45m Wind Speed m/s'],result['45m Wind Dir deg'])\n",
    "\n",
    "# Need to convert temperatures in inches of mercury to hectopascals\n",
    "result['Barometric Pressure hpa'] = inHg_to_hpa(result['BP inches Hg'])  \n",
    "\n",
    "# Need to convert from Kelvin to Potential Temperature\n",
    "result['2m potential temperature k'] = potential_temperature(result['2m Temp K'],result['Barometric Pressure hpa'])    \n",
    "result['10m potential temperature k'] = potential_temperature(result['10m Temp K'],result['Barometric Pressure hpa'])\n",
    "result['15m potential temperature k'] = potential_temperature(result['15m Temp K'],result['Barometric Pressure hpa'])\n",
    "result['45m potential temperature k'] = potential_temperature(result['45m Temp K'],result['Barometric Pressure hpa'])\n",
    "\n",
    "# Compute the friction velocity\n",
    "result['friction velocity'] = friction_velocity(result['Tau'],result['air_density'])\n",
    "\n",
    "# Compute the temperature scale\n",
    "result['temperature scale'] = temperature_scale(result['H'],result['air_density'],result['friction velocity'])\n",
    "\n",
    "# Compute the moisture scale\n",
    "result['moisture scale'] = moisture_scale(result['LE'],result['air_density'],result['friction velocity'])\n",
    "\n",
    "# Compute the Monin Obukhov Length\n",
    "result['obukhov length'] = obukhov_length(result['2m potential temperature k'], result['temperature scale'], \n",
    "                                          result['friction velocity'], von_karman_constant=0.4)\n",
    "\n",
    "# Compute the mixing ratio\n",
    "result['2m mixing ratio g_kg'], vapor_pressure, saturation_vapor_pressure = mixing_ratio(result['2m Temp C'], result['2m RH %'], result['Barometric Pressure hpa'])\n",
    "\n",
    "# Compute the virtual potential temperature\n",
    "result['2m virtual potential temperature'] = virtual_temperature(result['2m potential temperature k'], \n",
    "                                                                 result['2m mixing ratio g_kg'])\n",
    "# Compute the Bulk Richardson Number\n",
    "result['bulk richardson number'] = bulk_richardson_number(result['2m potential temperature k'], 2, \n",
    "                                                          result['2m mixing ratio g_kg'], \n",
    "                                                          result['2m virtual potential temperature'], \n",
    "                                                          result['2m Wind Speed m/s'])\n"
   ]
  },
  {
   "cell_type": "code",
   "execution_count": 12,
   "metadata": {},
   "outputs": [
    {
     "name": "stdout",
     "output_type": "stream",
     "text": [
      "(25541, 56)\n",
      "(15143, 56)\n"
     ]
    }
   ],
   "source": [
    "# Subset into different years for training and testing\n",
    "resultTest = result[(result['Year'] == 2017)]\n",
    "resultTrain = result[(result['Year'] != 2017)]\n",
    "print(resultTrain.shape)\n",
    "print(resultTest.shape)"
   ]
  },
  {
   "cell_type": "code",
   "execution_count": 14,
   "metadata": {},
   "outputs": [],
   "source": [
    "# Try computing Bulk Richardson Number between 10M and 2M\n",
    "# Compute the Bulk Richardson Number\n",
    "result['10m bulk richardson number'] = bulk_richardson_number(result['10m potential temperature k'], 10, \n",
    "                                                          result['2m mixing ratio g_kg'], \n",
    "                                                          result['2m virtual potential temperature'], \n",
    "                                                          result['2m Wind Speed m/s'])\n",
    "# Try computing Bulk Richardson Number between 2M and 5cm soil temperature\n",
    "# Compute the Bulk Richardson Number\n",
    "# Compute the virtual potential temperature\n",
    "\n",
    "result['5cm Soil Temp K'] = celsius_to_kelvin(result['5cm Soil Temp C'])\n",
    "result['5cm potential temperature k'] = potential_temperature(result['5cm Soil Temp K'],result['Barometric Pressure hpa'])\n",
    "result['5cm virtual potential temperature'] = virtual_temperature(result['5cm potential temperature k'], \n",
    "                                                                 result['2m mixing ratio g_kg'])\n",
    "result['Soil bulk richardson number'] = bulk_richardson_number(result['2m potential temperature k'], 10, \n",
    "                                                          result['2m mixing ratio g_kg'], \n",
    "                                                          result['5cm virtual potential temperature'], \n",
    "                                                          result['2m Wind Speed m/s'])"
   ]
  },
  {
   "cell_type": "code",
   "execution_count": 12,
   "metadata": {},
   "outputs": [
    {
     "data": {
      "text/plain": [
       "(array([2989., 4162., 4731., 3990., 3562., 3279., 3235., 3575., 6133.,\n",
       "        5028.]),\n",
       " array([ 5.27 , 14.353, 23.436, 32.519, 41.602, 50.685, 59.768, 68.851,\n",
       "        77.934, 87.017, 96.1  ]),\n",
       " <a list of 10 Patch objects>)"
      ]
     },
     "execution_count": 12,
     "metadata": {},
     "output_type": "execute_result"
    },
    {
     "data": {
      "image/png": "[encoded data removed]",
      "text/plain": [
       "<Figure size 432x288 with 1 Axes>"
      ]
     },
     "metadata": {},
     "output_type": "display_data"
    }
   ],
   "source": [
    "plt.hist(result['2m RH %'])"
   ]
  },
  {
   "cell_type": "code",
   "execution_count": 13,
   "metadata": {},
   "outputs": [
    {
     "data": {
      "text/plain": [
       "(array([ 214.,  501., 1686., 3943., 7474., 9100., 7894., 4994., 3625.,\n",
       "        1253.]), array([255.80703427, 262.80851941, 269.81000454, 276.81148967,\n",
       "        283.8129748 , 290.81445994, 297.81594507, 304.8174302 ,\n",
       "        311.81891533, 318.82040047, 325.8218856 ]), <a list of 10 Patch objects>)"
      ]
     },
     "execution_count": 13,
     "metadata": {},
     "output_type": "execute_result"
    },
    {
     "data": {
      "image/png": "[encoded data removed]",
      "text/plain": [
       "<Figure size 432x288 with 1 Axes>"
      ]
     },
     "metadata": {},
     "output_type": "display_data"
    }
   ],
   "source": [
    "plt.hist(result['2m potential temperature k'])"
   ]
  },
  {
   "cell_type": "code",
   "execution_count": 14,
   "metadata": {},
   "outputs": [
    {
     "data": {
      "text/plain": [
       "(array([2.4230e+03, 9.0270e+03, 1.3114e+04, 8.5590e+03, 4.7490e+03,\n",
       "        1.9140e+03, 6.3500e+02, 2.1400e+02, 4.0000e+01, 9.0000e+00]),\n",
       " array([0.03974489, 0.22832261, 0.41690032, 0.60547803, 0.79405575,\n",
       "        0.98263346, 1.17121117, 1.35978888, 1.5483666 , 1.73694431,\n",
       "        1.92552202]),\n",
       " <a list of 10 Patch objects>)"
      ]
     },
     "execution_count": 14,
     "metadata": {},
     "output_type": "execute_result"
    },
    {
     "data": {
      "image/png": "[encoded data removed]",
      "text/plain": [
       "<Figure size 432x288 with 1 Axes>"
      ]
     },
     "metadata": {},
     "output_type": "display_data"
    }
   ],
   "source": [
    "plt.hist(saturation_vapor_pressure)\n",
    "plt.hist(vapor_pressure)\n"
   ]
  },
  {
   "cell_type": "code",
   "execution_count": 15,
   "metadata": {},
   "outputs": [
    {
     "name": "stdout",
     "output_type": "stream",
     "text": [
      "325.9374521782428\n",
      "255.81157066648402\n",
      "296.1770551641186\n",
      "325.9374521782428\n",
      "255.81157066648402\n",
      "296.1770551641186\n",
      "40684\n",
      "40684\n",
      "(40684,)\n"
     ]
    },
    {
     "data": {
      "image/png": "[encoded data removed]",
      "text/plain": [
       "<Figure size 432x288 with 1 Axes>"
      ]
     },
     "metadata": {},
     "output_type": "display_data"
    }
   ],
   "source": [
    "t = np.array(result['2m virtual potential temperature'])\n",
    "print(np.max(t))\n",
    "print(np.min(t))\n",
    "print(np.mean(t))\n",
    "result_no_missing = np.array(result['2m virtual potential temperature'].replace(-999.0, np.nan).dropna(axis=0,how='any'))\n",
    "print(np.max(result_no_missing))\n",
    "print(np.min(result_no_missing))\n",
    "print(np.mean(result_no_missing))\n",
    "plt.hist(result_no_missing)\n",
    "print(np.size(t))\n",
    "print(np.size(result_no_missing))\n",
    "print(result['2m Wind Speed m/s'].shape)"
   ]
  },
  {
   "cell_type": "code",
   "execution_count": 16,
   "metadata": {},
   "outputs": [
    {
     "data": {
      "text/plain": [
       "(array([2.240e+02, 2.900e+02, 3.960e+02, 6.640e+02, 8.620e+02, 1.160e+03,\n",
       "        1.399e+03, 1.799e+03, 2.185e+03, 2.508e+03, 2.805e+03, 2.555e+03,\n",
       "        2.521e+03, 2.718e+03, 2.488e+03, 2.067e+03, 2.061e+03, 1.760e+03,\n",
       "        1.358e+03, 1.290e+03, 1.121e+03, 1.137e+03, 9.500e+02, 8.200e+02,\n",
       "        7.310e+02, 5.840e+02, 4.720e+02, 3.410e+02, 2.780e+02, 2.300e+02,\n",
       "        2.120e+02, 1.360e+02, 1.250e+02, 1.010e+02, 6.700e+01, 6.600e+01,\n",
       "        4.700e+01, 4.800e+01, 3.400e+01, 2.600e+01, 1.200e+01, 9.000e+00,\n",
       "        1.000e+01, 6.000e+00, 3.000e+00, 2.000e+00, 2.000e+00, 0.000e+00,\n",
       "        1.000e+00, 3.000e+00]),\n",
       " array([0.02907155, 0.05671909, 0.08436662, 0.11201415, 0.13966168,\n",
       "        0.16730922, 0.19495675, 0.22260428, 0.25025181, 0.27789935,\n",
       "        0.30554688, 0.33319441, 0.36084194, 0.38848947, 0.41613701,\n",
       "        0.44378454, 0.47143207, 0.4990796 , 0.52672714, 0.55437467,\n",
       "        0.5820222 , 0.60966973, 0.63731727, 0.6649648 , 0.69261233,\n",
       "        0.72025986, 0.7479074 , 0.77555493, 0.80320246, 0.83084999,\n",
       "        0.85849752, 0.88614506, 0.91379259, 0.94144012, 0.96908765,\n",
       "        0.99673519, 1.02438272, 1.05203025, 1.07967778, 1.10732532,\n",
       "        1.13497285, 1.16262038, 1.19026791, 1.21791545, 1.24556298,\n",
       "        1.27321051, 1.30085804, 1.32850557, 1.35615311, 1.38380064,\n",
       "        1.41144817]),\n",
       " <a list of 50 Patch objects>)"
      ]
     },
     "execution_count": 16,
     "metadata": {},
     "output_type": "execute_result"
    },
    {
     "data": {
      "image/png": "[encoded data removed]",
      "text/plain": [
       "<Figure size 432x288 with 1 Axes>"
      ]
     },
     "metadata": {},
     "output_type": "display_data"
    }
   ],
   "source": [
    "plt.hist(result['2m mixing ratio g_kg'],bins=50)"
   ]
  },
  {
   "cell_type": "code",
   "execution_count": 20,
   "metadata": {},
   "outputs": [
    {
     "data": {
      "text/plain": [
       "(array([18876., 21808.]), array([-1.,  0.,  1.]), <a list of 2 Patch objects>)"
      ]
     },
     "execution_count": 20,
     "metadata": {},
     "output_type": "execute_result"
    },
    {
     "data": {
      "image/png": "[encoded data removed]",
      "text/plain": [
       "<Figure size 432x288 with 1 Axes>"
      ]
     },
     "metadata": {},
     "output_type": "display_data"
    }
   ],
   "source": [
    "result['10m bulk richardson number'].drop(result['10m bulk richardson number'].idxmax())\n",
    "result[\"BRN_sign\"] = np.sign(result['10m bulk richardson number'])\n",
    "plt.title('Richardson Number Positive vs Negative using 2m-10m Temp', size = 16)\n",
    "plt.xlabel('Negative or Positive Bin', size = 16)\n",
    "plt.ylabel('Bin Count', size = 16)\n",
    "plt.hist(result[\"BRN_sign\"],bins=2)"
   ]
  },
  {
   "cell_type": "code",
   "execution_count": 19,
   "metadata": {},
   "outputs": [
    {
     "data": {
      "text/plain": [
       "(array([5.1700e+02, 3.9053e+04, 7.5900e+02, 1.7000e+02, 6.6000e+01,\n",
       "        3.2000e+01, 2.0000e+01, 1.8000e+01, 7.0000e+00, 7.0000e+00,\n",
       "        2.0000e+00, 7.0000e+00, 4.0000e+00, 2.0000e+00, 1.0000e+00,\n",
       "        4.0000e+00, 2.0000e+00, 0.0000e+00, 0.0000e+00, 1.0000e+00,\n",
       "        0.0000e+00, 1.0000e+00, 0.0000e+00, 1.0000e+00, 0.0000e+00,\n",
       "        2.0000e+00, 0.0000e+00, 0.0000e+00, 1.0000e+00, 0.0000e+00,\n",
       "        1.0000e+00, 1.0000e+00, 0.0000e+00, 1.0000e+00, 0.0000e+00,\n",
       "        0.0000e+00, 0.0000e+00, 1.0000e+00, 0.0000e+00, 0.0000e+00,\n",
       "        0.0000e+00, 0.0000e+00, 0.0000e+00, 0.0000e+00, 0.0000e+00,\n",
       "        0.0000e+00, 0.0000e+00, 0.0000e+00, 0.0000e+00, 0.0000e+00,\n",
       "        0.0000e+00, 0.0000e+00, 0.0000e+00, 0.0000e+00, 1.0000e+00,\n",
       "        0.0000e+00, 0.0000e+00, 0.0000e+00, 0.0000e+00, 0.0000e+00,\n",
       "        0.0000e+00, 0.0000e+00, 0.0000e+00, 0.0000e+00, 0.0000e+00,\n",
       "        0.0000e+00, 0.0000e+00, 0.0000e+00, 0.0000e+00, 0.0000e+00,\n",
       "        0.0000e+00, 1.0000e+00, 0.0000e+00, 0.0000e+00, 0.0000e+00,\n",
       "        0.0000e+00, 0.0000e+00, 0.0000e+00, 0.0000e+00, 0.0000e+00,\n",
       "        0.0000e+00, 0.0000e+00, 0.0000e+00, 0.0000e+00, 0.0000e+00,\n",
       "        0.0000e+00, 0.0000e+00, 0.0000e+00, 0.0000e+00, 0.0000e+00,\n",
       "        0.0000e+00, 0.0000e+00, 0.0000e+00, 0.0000e+00, 0.0000e+00,\n",
       "        0.0000e+00, 0.0000e+00, 0.0000e+00, 0.0000e+00, 1.0000e+00]),\n",
       " array([-2.15799533e+00, -1.65776622e-01,  1.82644209e+00,  3.81866080e+00,\n",
       "         5.81087951e+00,  7.80309822e+00,  9.79531693e+00,  1.17875356e+01,\n",
       "         1.37797543e+01,  1.57719731e+01,  1.77641918e+01,  1.97564105e+01,\n",
       "         2.17486292e+01,  2.37408479e+01,  2.57330666e+01,  2.77252853e+01,\n",
       "         2.97175040e+01,  3.17097227e+01,  3.37019414e+01,  3.56941602e+01,\n",
       "         3.76863789e+01,  3.96785976e+01,  4.16708163e+01,  4.36630350e+01,\n",
       "         4.56552537e+01,  4.76474724e+01,  4.96396911e+01,  5.16319098e+01,\n",
       "         5.36241285e+01,  5.56163473e+01,  5.76085660e+01,  5.96007847e+01,\n",
       "         6.15930034e+01,  6.35852221e+01,  6.55774408e+01,  6.75696595e+01,\n",
       "         6.95618782e+01,  7.15540969e+01,  7.35463156e+01,  7.55385344e+01,\n",
       "         7.75307531e+01,  7.95229718e+01,  8.15151905e+01,  8.35074092e+01,\n",
       "         8.54996279e+01,  8.74918466e+01,  8.94840653e+01,  9.14762840e+01,\n",
       "         9.34685028e+01,  9.54607215e+01,  9.74529402e+01,  9.94451589e+01,\n",
       "         1.01437378e+02,  1.03429596e+02,  1.05421815e+02,  1.07414034e+02,\n",
       "         1.09406252e+02,  1.11398471e+02,  1.13390690e+02,  1.15382909e+02,\n",
       "         1.17375127e+02,  1.19367346e+02,  1.21359565e+02,  1.23351783e+02,\n",
       "         1.25344002e+02,  1.27336221e+02,  1.29328440e+02,  1.31320658e+02,\n",
       "         1.33312877e+02,  1.35305096e+02,  1.37297314e+02,  1.39289533e+02,\n",
       "         1.41281752e+02,  1.43273971e+02,  1.45266189e+02,  1.47258408e+02,\n",
       "         1.49250627e+02,  1.51242845e+02,  1.53235064e+02,  1.55227283e+02,\n",
       "         1.57219501e+02,  1.59211720e+02,  1.61203939e+02,  1.63196158e+02,\n",
       "         1.65188376e+02,  1.67180595e+02,  1.69172814e+02,  1.71165032e+02,\n",
       "         1.73157251e+02,  1.75149470e+02,  1.77141689e+02,  1.79133907e+02,\n",
       "         1.81126126e+02,  1.83118345e+02,  1.85110563e+02,  1.87102782e+02,\n",
       "         1.89095001e+02,  1.91087220e+02,  1.93079438e+02,  1.95071657e+02,\n",
       "         1.97063876e+02]),\n",
       " <a list of 100 Patch objects>)"
      ]
     },
     "execution_count": 19,
     "metadata": {},
     "output_type": "execute_result"
    },
    {
     "data": {
      "image/png": "[encoded data removed]",
      "text/plain": [
       "<Figure size 432x288 with 1 Axes>"
      ]
     },
     "metadata": {},
     "output_type": "display_data"
    }
   ],
   "source": [
    "plt.hist(result['10m bulk richardson number'],bins=100)"
   ]
  },
  {
   "cell_type": "code",
   "execution_count": 20,
   "metadata": {},
   "outputs": [
    {
     "data": {
      "text/plain": [
       "(array([1.0000e+00, 0.0000e+00, 0.0000e+00, 0.0000e+00, 0.0000e+00,\n",
       "        0.0000e+00, 0.0000e+00, 0.0000e+00, 0.0000e+00, 0.0000e+00,\n",
       "        0.0000e+00, 0.0000e+00, 0.0000e+00, 0.0000e+00, 0.0000e+00,\n",
       "        0.0000e+00, 0.0000e+00, 0.0000e+00, 0.0000e+00, 0.0000e+00,\n",
       "        0.0000e+00, 0.0000e+00, 1.0000e+00, 0.0000e+00, 0.0000e+00,\n",
       "        0.0000e+00, 0.0000e+00, 0.0000e+00, 0.0000e+00, 0.0000e+00,\n",
       "        0.0000e+00, 0.0000e+00, 0.0000e+00, 0.0000e+00, 0.0000e+00,\n",
       "        0.0000e+00, 0.0000e+00, 0.0000e+00, 0.0000e+00, 0.0000e+00,\n",
       "        1.0000e+00, 0.0000e+00, 1.0000e+00, 0.0000e+00, 0.0000e+00,\n",
       "        0.0000e+00, 0.0000e+00, 0.0000e+00, 0.0000e+00, 0.0000e+00,\n",
       "        0.0000e+00, 0.0000e+00, 0.0000e+00, 0.0000e+00, 1.0000e+00,\n",
       "        0.0000e+00, 0.0000e+00, 1.0000e+00, 0.0000e+00, 0.0000e+00,\n",
       "        0.0000e+00, 0.0000e+00, 0.0000e+00, 0.0000e+00, 0.0000e+00,\n",
       "        0.0000e+00, 0.0000e+00, 0.0000e+00, 2.0000e+00, 2.0000e+00,\n",
       "        0.0000e+00, 0.0000e+00, 2.0000e+00, 0.0000e+00, 1.0000e+00,\n",
       "        1.0000e+00, 0.0000e+00, 3.0000e+00, 1.0000e+00, 1.0000e+00,\n",
       "        5.0000e+00, 2.0000e+00, 4.0000e+00, 7.0000e+00, 8.0000e+00,\n",
       "        7.0000e+00, 7.0000e+00, 9.0000e+00, 1.8000e+01, 2.5000e+01,\n",
       "        4.4000e+01, 4.6000e+01, 1.5900e+02, 4.7500e+02, 5.3450e+03,\n",
       "        3.4474e+04, 2.3000e+01, 4.0000e+00, 2.0000e+00, 1.0000e+00]),\n",
       " array([-569.83391786, -563.85310878, -557.8722997 , -551.89149062,\n",
       "        -545.91068154, -539.92987246, -533.94906337, -527.96825429,\n",
       "        -521.98744521, -516.00663613, -510.02582705, -504.04501797,\n",
       "        -498.06420889, -492.08339981, -486.10259073, -480.12178165,\n",
       "        -474.14097257, -468.16016349, -462.1793544 , -456.19854532,\n",
       "        -450.21773624, -444.23692716, -438.25611808, -432.275309  ,\n",
       "        -426.29449992, -420.31369084, -414.33288176, -408.35207268,\n",
       "        -402.3712636 , -396.39045451, -390.40964543, -384.42883635,\n",
       "        -378.44802727, -372.46721819, -366.48640911, -360.50560003,\n",
       "        -354.52479095, -348.54398187, -342.56317279, -336.58236371,\n",
       "        -330.60155463, -324.62074554, -318.63993646, -312.65912738,\n",
       "        -306.6783183 , -300.69750922, -294.71670014, -288.73589106,\n",
       "        -282.75508198, -276.7742729 , -270.79346382, -264.81265474,\n",
       "        -258.83184565, -252.85103657, -246.87022749, -240.88941841,\n",
       "        -234.90860933, -228.92780025, -222.94699117, -216.96618209,\n",
       "        -210.98537301, -205.00456393, -199.02375485, -193.04294577,\n",
       "        -187.06213668, -181.0813276 , -175.10051852, -169.11970944,\n",
       "        -163.13890036, -157.15809128, -151.1772822 , -145.19647312,\n",
       "        -139.21566404, -133.23485496, -127.25404588, -121.2732368 ,\n",
       "        -115.29242771, -109.31161863, -103.33080955,  -97.35000047,\n",
       "         -91.36919139,  -85.38838231,  -79.40757323,  -73.42676415,\n",
       "         -67.44595507,  -61.46514599,  -55.48433691,  -49.50352782,\n",
       "         -43.52271874,  -37.54190966,  -31.56110058,  -25.5802915 ,\n",
       "         -19.59948242,  -13.61867334,   -7.63786426,   -1.65705518,\n",
       "           4.3237539 ,   10.30456298,   16.28537206,   22.26618115,\n",
       "          28.24699023]),\n",
       " <a list of 100 Patch objects>)"
      ]
     },
     "execution_count": 20,
     "metadata": {},
     "output_type": "execute_result"
    },
    {
     "data": {
      "image/png": "[encoded data removed]",
      "text/plain": [
       "<Figure size 432x288 with 1 Axes>"
      ]
     },
     "metadata": {},
     "output_type": "display_data"
    }
   ],
   "source": [
    "plt.hist(result['Soil bulk richardson number'],bins=100)"
   ]
  },
  {
   "cell_type": "code",
   "execution_count": 19,
   "metadata": {},
   "outputs": [
    {
     "data": {
      "text/plain": [
       "(array([31906.,  8778.]), array([-1.,  0.,  1.]), <a list of 2 Patch objects>)"
      ]
     },
     "execution_count": 19,
     "metadata": {},
     "output_type": "execute_result"
    },
    {
     "data": {
      "image/png": "[encoded data removed]",
      "text/plain": [
       "<Figure size 432x288 with 1 Axes>"
      ]
     },
     "metadata": {},
     "output_type": "display_data"
    }
   ],
   "source": [
    "result['Soil bulk richardson number'].drop(result['Soil bulk richardson number'].idxmin())\n",
    "result[\"BRN_sign_5cm\"] = np.sign(result['Soil bulk richardson number'])\n",
    "plt.title('Richardson Number Positive vs Negative using 5cm Soil Temp', size = 16)\n",
    "plt.xlabel('Negative or Positive Bin', size = 16)\n",
    "plt.ylabel('Bin Count', size = 16)\n",
    "plt.hist(result[\"BRN_sign_5cm\"],bins=2)"
   ]
  },
  {
   "cell_type": "code",
   "execution_count": 15,
   "metadata": {},
   "outputs": [
    {
     "name": "stdout",
     "output_type": "stream",
     "text": [
      "(25541, 85)\n",
      "(15143, 85)\n"
     ]
    }
   ],
   "source": [
    "# Subset into different years for training and testing\n",
    "resultTest = result[(result['Year'] == 2017)]\n",
    "resultTrain = result[(result['Year'] != 2017)]\n",
    "print(resultTrain.shape)\n",
    "print(resultTest.shape)"
   ]
  },
  {
   "cell_type": "code",
   "execution_count": 21,
   "metadata": {},
   "outputs": [],
   "source": [
    "# Imports Required for random forest\n",
    "# Pandas is used for data manipulation, h5py for data (conda install h5py)\n",
    "import pandas as pd\n",
    "import numpy as np\n",
    "from sklearn.model_selection import train_test_split\n",
    "from sklearn.ensemble import RandomForestRegressor\n",
    "from sklearn.tree import export_graphviz\n",
    "#import pydot\n",
    "import matplotlib.pyplot as plt\n",
    "import datetime\n",
    "import h5py\n",
    "import numpy.ma as ma\n",
    "\n",
    "dataset = pd.DataFrame()\n",
    "# Create datasets for training and testing.  \n",
    "# Predictors to use:\n",
    "dataset['2m potential temperature k'] = resultTrain['2m potential temperature k']\n",
    "dataset['10m potential temperature k'] = resultTrain['10m potential temperature k']\n",
    "dataset['15m potential temperature k'] = resultTrain['15m potential temperature k']\n",
    "dataset['45m potential temperature k'] = resultTrain['45m potential temperature k']\n",
    "dataset['2m U-Wind m/s'] = resultTrain['2m U-Wind m/s']\n",
    "dataset['2m V-Wind m/s'] = resultTrain['2m V-Wind m/s']\n",
    "dataset['10m U-Wind m/s'] = resultTrain['2m U-Wind m/s']\n",
    "dataset['10m V-Wind m/s'] = resultTrain['2m V-Wind m/s']\n",
    "dataset['15m U-Wind m/s'] = resultTrain['2m U-Wind m/s']\n",
    "dataset['15m V-Wind m/s'] = resultTrain['2m V-Wind m/s']\n",
    "dataset['45m U-Wind m/s'] = resultTrain['2m U-Wind m/s']\n",
    "dataset['45m V-Wind m/s'] = resultTrain['2m V-Wind m/s']\n",
    "dataset['2m RH %'] = resultTrain['2m RH %']\n",
    "dataset['Solar Rad w/m^2'] = resultTrain['Solar Rad w/m^2']\n",
    "dataset['Barometric Pressure hpa'] = resultTrain['Barometric Pressure hpa']\n",
    "dataset['Rain inches'] = resultTrain['Rain inches']\n",
    "dataset['5cm Water Content'] = resultTrain['5cm Water Content']\n",
    "dataset['5cm Soil Temp C'] = resultTrain['5cm Soil Temp C']\n",
    "dataset['air_heat_capacity'] = resultTrain['air_heat_capacity']\n",
    "\n",
    "datasetTest = pd.DataFrame()\n",
    "# Create datasets for training and testing.  \n",
    "# Predictors to use:\n",
    "datasetTest['2m potential temperature k'] = resultTest['2m potential temperature k']\n",
    "datasetTest['10m potential temperature k'] = resultTest['10m potential temperature k']\n",
    "datasetTest['15m potential temperature k'] = resultTest['15m potential temperature k']\n",
    "datasetTest['45m potential temperature k'] = resultTest['45m potential temperature k']\n",
    "datasetTest['2m U-Wind m/s'] = resultTest['2m U-Wind m/s']\n",
    "datasetTest['2m V-Wind m/s'] = resultTest['2m V-Wind m/s']\n",
    "datasetTest['10m U-Wind m/s'] = resultTest['2m U-Wind m/s']\n",
    "datasetTest['10m V-Wind m/s'] = resultTest['2m V-Wind m/s']\n",
    "datasetTest['15m U-Wind m/s'] = resultTest['2m U-Wind m/s']\n",
    "datasetTest['15m V-Wind m/s'] = resultTest['2m V-Wind m/s']\n",
    "datasetTest['45m U-Wind m/s'] = resultTest['2m U-Wind m/s']\n",
    "datasetTest['45m V-Wind m/s'] = resultTest['2m V-Wind m/s']\n",
    "datasetTest['2m RH %'] = resultTest['2m RH %']\n",
    "datasetTest['Solar Rad w/m^2'] = resultTest['Solar Rad w/m^2']\n",
    "datasetTest['Barometric Pressure hpa'] = resultTest['Barometric Pressure hpa']\n",
    "datasetTest['Rain inches'] = resultTest['Rain inches']\n",
    "datasetTest['5cm Water Content'] = resultTest['5cm Water Content']\n",
    "datasetTest['5cm Soil Temp C'] = resultTest['5cm Soil Temp C']\n",
    "datasetTest['air_heat_capacity'] = resultTest['air_heat_capacity']\n",
    "#dataset['air_density'] = result['air_density']\n",
    "#dataset['Tau'] = result['Tau']\n",
    "featuresM = ['2m potential temperature k','10m potential temperature k','15m potential temperature k',\n",
    "             '45m potential temperature k','2m U-Wind m/s','2m V-Wind m/s','10m U-Wind m/s','10m V-Wind m/s',\n",
    "            '15m U-Wind m/s','15m V-Wind m/s','45m U-Wind m/s','45m V-Wind m/s','2m RH %','Solar Rad w/m^2',\n",
    "             'Barometric Pressure hpa','Rain inches','5cm Water Content','5cm Soil Temp C',\n",
    "             'air_heat_capacity']\n",
    "featuresB = ['2m potential temperature k','10m potential temperature k','15m potential temperature k',\n",
    "             '45m potential temperature k','2m U-Wind m/s','2m V-Wind m/s','10m U-Wind m/s','10m V-Wind m/s',\n",
    "            '15m U-Wind m/s','15m V-Wind m/s','45m U-Wind m/s','45m V-Wind m/s','2m RH %','Solar Rad w/m^2',\n",
    "             'Barometric Pressure hpa','Rain inches','5cm Water Content','5cm Soil Temp C',\n",
    "             'air_heat_capacity']\n",
    "featuresF = ['2m potential temperature k','10m potential temperature k','15m potential temperature k',\n",
    "             '45m potential temperature k','2m U-Wind m/s','2m V-Wind m/s','10m U-Wind m/s','10m V-Wind m/s',\n",
    "            '15m U-Wind m/s','15m V-Wind m/s','45m U-Wind m/s','45m V-Wind m/s','2m RH %','Solar Rad w/m^2',\n",
    "             'Barometric Pressure hpa','Rain inches','5cm Water Content','5cm Soil Temp C',\n",
    "             'air_heat_capacity']\n",
    "\n",
    "MoistureScaleTrain = resultTrain['moisture scale']\n",
    "TemperatureScaleTrain = resultTrain['temperature scale']\n",
    "FrictionVelocityTrain = resultTrain['friction velocity']\n",
    "\n",
    "MoistureScaleTest = resultTest['moisture scale']\n",
    "TemperatureScaleTest = resultTest['temperature scale']\n",
    "FrictionVelocityTest = resultTest['friction velocity']\n",
    "\n",
    "# Random forest method\n",
    "# Split the data into training and testing sets\n",
    "train_featuresM, test_featuresM, train_labelsM, test_labelsM = train_test_split(dataset, MoistureScaleTrain, test_size = 0.00, random_state = 42)\n",
    "train_featuresF, test_featuresF, train_labelsF, test_labelsF = train_test_split(dataset, FrictionVelocityTrain, test_size = 0.00, random_state = 42)\n",
    "train_featuresT, test_featuresT, train_labelsT, test_labelsT = train_test_split(dataset, TemperatureScaleTrain, test_size = 0.00, random_state = 42)\n",
    "\n",
    "# Split the data into training and testing sets\n",
    "train_featuresMT, test_featuresMT, train_labelsMT, test_labelsMT = train_test_split(datasetTest, MoistureScaleTest, test_size = 0.00, random_state = 42)\n",
    "train_featuresFT, test_featuresFT, train_labelsFT, test_labelsFT = train_test_split(datasetTest, FrictionVelocityTest, test_size = 0.00, random_state = 42)\n",
    "train_featuresTT, test_featuresTT, train_labelsTT, test_labelsTT = train_test_split(datasetTest, TemperatureScaleTest, test_size = 0.00, random_state = 42)"
   ]
  },
  {
   "cell_type": "code",
   "execution_count": 24,
   "metadata": {},
   "outputs": [
    {
     "name": "stdout",
     "output_type": "stream",
     "text": [
      "(25541, 19)\n",
      "(15143, 19)\n"
     ]
    }
   ],
   "source": [
    "print(train_featuresM.shape)\n",
    "print(train_featuresMT.shape)"
   ]
  },
  {
   "cell_type": "code",
   "execution_count": 22,
   "metadata": {},
   "outputs": [],
   "source": [
    "######### Configure and train the Random Forest ##############\n",
    "# Import the Random Forest Model\n",
    "# Instantiate model \n",
    "rfM = RandomForestRegressor(n_estimators= 1000, random_state=2,criterion='mse',min_samples_split=4,min_samples_leaf=2)\n",
    "rfT = RandomForestRegressor(n_estimators= 1000, random_state=2,criterion='mse',min_samples_split=4,min_samples_leaf=2)\n",
    "rfF = RandomForestRegressor(n_estimators= 1000, random_state=2,criterion='mse',min_samples_split=4,min_samples_leaf=2)\n",
    "# Train the model on training data\n",
    "rfM.fit(train_featuresM, train_labelsM);\n",
    "rfF.fit(train_featuresF, train_labelsF);\n",
    "rfT.fit(train_featuresT, train_labelsT);"
   ]
  },
  {
   "cell_type": "code",
   "execution_count": 23,
   "metadata": {},
   "outputs": [
    {
     "name": "stdout",
     "output_type": "stream",
     "text": [
      "Mean Absolute Error for predicting Moisture Scale: 0.017\n",
      "Mean Absolute Error for predicting Temperature Scale: 0.0832\n",
      "Mean Absolute Error for predicting Friction Velocity: 0.0594\n",
      "Moisture Scale Mean:  0.027508112410258197\n",
      "Moisture Scale Standard Deviation:  0.06247461810922704\n",
      "Temperature Scale Mean:  -0.10894228532243955\n",
      "Temperature Scale Standard Deviation:  0.31209201287859567\n",
      "Friction Velocity Mean:  0.2737718332543237\n",
      "Friction Velocity Standard Deviation:  0.20352365418080426\n"
     ]
    }
   ],
   "source": [
    "# Use the forest's predict method on the test data\n",
    "predictionsM = rfM.predict(train_featuresMT)\n",
    "predictionsT = rfT.predict(train_featuresTT)\n",
    "predictionsF = rfF.predict(train_featuresFT)\n",
    "\n",
    "######### Compute Errors on Test Data #############\n",
    "# Calculate the absolute errors\n",
    "errorsM = abs(predictionsM - train_labelsMT)\n",
    "errorsT = abs(predictionsT - train_labelsTT)\n",
    "errorsF = abs(predictionsF - train_labelsFT)\n",
    "# Print out the mean absolute error (mae)\n",
    "print('Mean Absolute Error for predicting Moisture Scale:', round(np.mean(errorsM), 4))\n",
    "print('Mean Absolute Error for predicting Temperature Scale:', round(np.mean(errorsT), 4))\n",
    "print('Mean Absolute Error for predicting Friction Velocity:', round(np.mean(errorsF), 4))\n",
    "print('Moisture Scale Mean: ',np.mean(MoistureScaleTest))\n",
    "print('Moisture Scale Standard Deviation: ',np.std(MoistureScaleTest))\n",
    "print('Temperature Scale Mean: ',np.mean(TemperatureScaleTest))\n",
    "print('Temperature Scale Standard Deviation: ',np.std(TemperatureScaleTest))\n",
    "print('Friction Velocity Mean: ',np.mean(FrictionVelocityTest))\n",
    "print('Friction Velocity Standard Deviation: ',np.std(FrictionVelocityTest))"
   ]
  },
  {
   "cell_type": "code",
   "execution_count": 25,
   "metadata": {},
   "outputs": [
    {
     "name": "stdout",
     "output_type": "stream",
     "text": [
      "Features importances for predicting moisture scale\n",
      "Variable:Solar Rad w/m^2      Importance: 0.35\n",
      "Variable:air_heat_capacity    Importance: 0.17\n",
      "Variable:5cm Water Content    Importance: 0.15\n",
      "Variable:2m RH %              Importance: 0.05\n",
      "Variable:Barometric Pressure hpa Importance: 0.05\n",
      "Variable:5cm Soil Temp C      Importance: 0.05\n",
      "Variable:2m potential temperature k Importance: 0.02\n",
      "Variable:45m potential temperature k Importance: 0.02\n",
      "Variable:2m V-Wind m/s        Importance: 0.02\n",
      "Variable:10m V-Wind m/s       Importance: 0.02\n",
      "Variable:15m V-Wind m/s       Importance: 0.02\n",
      "Variable:45m V-Wind m/s       Importance: 0.02\n",
      "Variable:10m potential temperature k Importance: 0.01\n",
      "Variable:15m potential temperature k Importance: 0.01\n",
      "Variable:2m U-Wind m/s        Importance: 0.01\n",
      "Variable:10m U-Wind m/s       Importance: 0.01\n",
      "Variable:15m U-Wind m/s       Importance: 0.01\n",
      "Variable:45m U-Wind m/s       Importance: 0.01\n",
      "Variable:Rain inches          Importance: 0.0\n",
      "Features importances for predicting temperature scale\n",
      "Variable:Solar Rad w/m^2      Importance: 0.72\n",
      "Variable:Barometric Pressure hpa Importance: 0.05\n",
      "Variable:2m RH %              Importance: 0.03\n",
      "Variable:2m U-Wind m/s        Importance: 0.02\n",
      "Variable:10m U-Wind m/s       Importance: 0.02\n",
      "Variable:15m U-Wind m/s       Importance: 0.02\n",
      "Variable:45m U-Wind m/s       Importance: 0.02\n",
      "Variable:5cm Water Content    Importance: 0.02\n",
      "Variable:5cm Soil Temp C      Importance: 0.02\n",
      "Variable:air_heat_capacity    Importance: 0.02\n",
      "Variable:2m potential temperature k Importance: 0.01\n",
      "Variable:45m potential temperature k Importance: 0.01\n",
      "Variable:2m V-Wind m/s        Importance: 0.01\n",
      "Variable:10m V-Wind m/s       Importance: 0.01\n",
      "Variable:15m V-Wind m/s       Importance: 0.01\n",
      "Variable:45m V-Wind m/s       Importance: 0.01\n",
      "Variable:10m potential temperature k Importance: 0.0\n",
      "Variable:15m potential temperature k Importance: 0.0\n",
      "Variable:Rain inches          Importance: 0.0\n",
      "Features importances for predicting friction velocity\n",
      "Variable:15m U-Wind m/s       Importance: 0.16\n",
      "Variable:45m U-Wind m/s       Importance: 0.16\n",
      "Variable:10m U-Wind m/s       Importance: 0.15\n",
      "Variable:2m U-Wind m/s        Importance: 0.14\n",
      "Variable:2m V-Wind m/s        Importance: 0.08\n",
      "Variable:10m V-Wind m/s       Importance: 0.07\n",
      "Variable:15m V-Wind m/s       Importance: 0.07\n",
      "Variable:45m V-Wind m/s       Importance: 0.07\n",
      "Variable:Solar Rad w/m^2      Importance: 0.04\n",
      "Variable:2m potential temperature k Importance: 0.01\n",
      "Variable:2m RH %              Importance: 0.01\n",
      "Variable:Barometric Pressure hpa Importance: 0.01\n",
      "Variable:5cm Water Content    Importance: 0.01\n",
      "Variable:5cm Soil Temp C      Importance: 0.01\n",
      "Variable:air_heat_capacity    Importance: 0.01\n",
      "Variable:10m potential temperature k Importance: 0.0\n",
      "Variable:15m potential temperature k Importance: 0.0\n",
      "Variable:45m potential temperature k Importance: 0.0\n",
      "Variable:Rain inches          Importance: 0.0\n"
     ]
    }
   ],
   "source": [
    "# Feature selection\n",
    "importancesM = list(rfM.feature_importances_)\n",
    "feature_listM = featuresM\n",
    "feature_importancesM = [(featuresM,round(importancesM,2)) for featuresM, importancesM in zip(feature_listM,importancesM)]\n",
    "feature_importancesM = sorted(feature_importancesM,key = lambda x: x[1],reverse=True)\n",
    "print(\"Features importances for predicting moisture scale\")\n",
    "[print('Variable:{:20} Importance: {}'.format(*pair)) for pair in feature_importancesM];\n",
    "\n",
    "# Feature selection\n",
    "importancesT = list(rfT.feature_importances_)\n",
    "feature_listT = featuresB\n",
    "feature_importancesT = [(featuresT,round(importancesT,2)) for featuresT, importancesT in zip(feature_listT,importancesT)]\n",
    "feature_importancesT = sorted(feature_importancesT,key = lambda x: x[1],reverse=True)\n",
    "print(\"Features importances for predicting temperature scale\")\n",
    "[print('Variable:{:20} Importance: {}'.format(*pair)) for pair in feature_importancesT];\n",
    "\n",
    "# Feature selection\n",
    "importancesF = list(rfF.feature_importances_)\n",
    "featuresF = ['2m potential temperature k','10m potential temperature k','15m potential temperature k',\n",
    "             '45m potential temperature k','2m U-Wind m/s','2m V-Wind m/s','10m U-Wind m/s','10m V-Wind m/s',\n",
    "            '15m U-Wind m/s','15m V-Wind m/s','45m U-Wind m/s','45m V-Wind m/s','2m RH %','Solar Rad w/m^2',\n",
    "             'Barometric Pressure hpa','Rain inches','5cm Water Content','5cm Soil Temp C',\n",
    "             'air_heat_capacity']\n",
    "feature_listF = featuresF\n",
    "feature_importancesF = [(featuresF,round(importancesF,2)) for featuresF, importancesF in zip(feature_listF,importancesF)]\n",
    "feature_importancesF = sorted(feature_importancesF,key = lambda x: x[1],reverse=True)\n",
    "print(\"Features importances for predicting friction velocity\")\n",
    "[print('Variable:{:20} Importance: {}'.format(*pair)) for pair in feature_importancesF];"
   ]
  },
  {
   "cell_type": "code",
   "execution_count": null,
   "metadata": {},
   "outputs": [],
   "source": []
  },
  {
   "cell_type": "code",
   "execution_count": null,
   "metadata": {},
   "outputs": [],
   "source": []
  },
  {
   "cell_type": "code",
   "execution_count": null,
   "metadata": {},
   "outputs": [],
   "source": []
  },
  {
   "cell_type": "code",
   "execution_count": 27,
   "metadata": {},
   "outputs": [
    {
     "name": "stdout",
     "output_type": "stream",
     "text": [
      "The R value is... 0.9127098813957891\n"
     ]
    },
    {
     "data": {
      "image/png": "[encoded data removed]",
      "text/plain": [
       "<Figure size 432x288 with 1 Axes>"
      ]
     },
     "metadata": {},
     "output_type": "display_data"
    }
   ],
   "source": [
    "## Plots below after flux and met data are joined together...\n",
    "\n",
    "from scipy import stats\n",
    "\n",
    "#errorsM = abs(predictionsM - test_labelsM)\n",
    "#errorsT = abs(predictionsT - test_labelsT)\n",
    "\n",
    "x = predictionsF\n",
    "y = train_labelsFT\n",
    "plt.scatter(x, y, 1, \"k\")\n",
    "slope, intercept, r_value, p_value, std_err = stats.linregress(x,y)\n",
    "line = slope*x+intercept\n",
    "print(\"The R value is...\",r_value)\n",
    "plt.title('Predicted vs Actual Friction Velocity', size = 20)\n",
    "plt.xlabel('Friction Velocity Predictions (m/s)', size = 20)\n",
    "plt.ylabel('Friction Velocity Actuals (m/s)', size = 20)\n",
    "\n",
    "plt.plot(x,y,'o', x, line)\n",
    "plt.show()"
   ]
  },
  {
   "cell_type": "code",
   "execution_count": 28,
   "metadata": {},
   "outputs": [
    {
     "name": "stdout",
     "output_type": "stream",
     "text": [
      "The R value is... 0.7914600120772693\n"
     ]
    },
    {
     "data": {
      "image/png": "[encoded data removed]",
      "text/plain": [
       "<Figure size 432x288 with 1 Axes>"
      ]
     },
     "metadata": {},
     "output_type": "display_data"
    }
   ],
   "source": [
    "## Plots below after flux and met data are joined together...\n",
    "\n",
    "from scipy import stats\n",
    "\n",
    "#errorsM = abs(predictionsM - test_labelsM)\n",
    "#errorsT = abs(predictionsT - test_labelsT)\n",
    "\n",
    "x = predictionsM\n",
    "y = train_labelsMT\n",
    "plt.scatter(x, y, 1, \"k\")\n",
    "slope, intercept, r_value, p_value, std_err = stats.linregress(x,y)\n",
    "line = slope*x+intercept\n",
    "print(\"The R value is...\",r_value)\n",
    "plt.title('Predicted vs Actual Moisture Scale', size = 20)\n",
    "plt.xlabel('Moisture Scale Predictions (g kg-1)', size = 20)\n",
    "plt.ylabel('Moisture Scale Actuals (g kg-1)', size = 20)\n",
    "\n",
    "plt.plot(x,y,'o', x, line)\n",
    "plt.show()"
   ]
  },
  {
   "cell_type": "code",
   "execution_count": 30,
   "metadata": {},
   "outputs": [
    {
     "name": "stdout",
     "output_type": "stream",
     "text": [
      "The R value is... 0.8856077517163402\n"
     ]
    },
    {
     "data": {
      "image/png": "[encoded data removed]",
      "text/plain": [
       "<Figure size 432x288 with 1 Axes>"
      ]
     },
     "metadata": {},
     "output_type": "display_data"
    }
   ],
   "source": [
    "## Plots below after flux and met data are joined together...\n",
    "\n",
    "from scipy import stats\n",
    "\n",
    "#errorsM = abs(predictionsM - test_labelsM)\n",
    "#errorsT = abs(predictionsT - test_labelsT)\n",
    "\n",
    "x = predictionsT\n",
    "y = train_labelsTT\n",
    "plt.scatter(x, y, 1, \"k\")\n",
    "slope, intercept, r_value, p_value, std_err = stats.linregress(x,y)\n",
    "line = slope*x+intercept\n",
    "print(\"The R value is...\",r_value)\n",
    "plt.title('Predicted vs Actual Temperature Scale', size = 20)\n",
    "plt.xlabel('Temperature Scale Predictions (K)', size = 20)\n",
    "plt.ylabel('Temperature Scale Actuals (K)', size = 20)\n",
    "\n",
    "plt.plot(x,y,'o', x, line)\n",
    "plt.show()"
   ]
  },
  {
   "cell_type": "code",
   "execution_count": null,
   "metadata": {},
   "outputs": [],
   "source": []
  },
  {
   "cell_type": "code",
   "execution_count": null,
   "metadata": {},
   "outputs": [
    {
     "ename": "KeyboardInterrupt",
     "evalue": "",
     "output_type": "error",
     "traceback": [
      "\u001b[0;31m---------------------------------------------------------------------------\u001b[0m",
      "\u001b[0;31mKeyboardInterrupt\u001b[0m                         Traceback (most recent call last)",
      "\u001b[0;32m<ipython-input-9-9cb957e4d6d8>\u001b[0m in \u001b[0;36m<module>\u001b[0;34m()\u001b[0m\n\u001b[1;32m      7\u001b[0m     \u001b[0;31m# Draw the plot\u001b[0m\u001b[0;34m\u001b[0m\u001b[0;34m\u001b[0m\u001b[0m\n\u001b[1;32m      8\u001b[0m     \u001b[0;32mif\u001b[0m \u001b[0mi\u001b[0m \u001b[0;34m==\u001b[0m \u001b[0;36m1\u001b[0m\u001b[0;34m:\u001b[0m\u001b[0;34m\u001b[0m\u001b[0m\n\u001b[0;32m----> 9\u001b[0;31m         \u001b[0max\u001b[0m\u001b[0;34m.\u001b[0m\u001b[0mhist\u001b[0m\u001b[0;34m(\u001b[0m\u001b[0midaho_flux_no_missing\u001b[0m\u001b[0;34m[\u001b[0m\u001b[0;34m'h2o_flux'\u001b[0m\u001b[0;34m]\u001b[0m\u001b[0;34m,\u001b[0m\u001b[0mbins\u001b[0m\u001b[0;34m=\u001b[0m\u001b[0;36m50\u001b[0m\u001b[0;34m)\u001b[0m\u001b[0;34m\u001b[0m\u001b[0m\n\u001b[0m\u001b[1;32m     10\u001b[0m         \u001b[0max\u001b[0m\u001b[0;34m.\u001b[0m\u001b[0mset_title\u001b[0m\u001b[0;34m(\u001b[0m\u001b[0;34m'h2o_flux'\u001b[0m\u001b[0;34m,\u001b[0m \u001b[0msize\u001b[0m \u001b[0;34m=\u001b[0m \u001b[0;36m10\u001b[0m\u001b[0;34m)\u001b[0m\u001b[0;34m\u001b[0m\u001b[0m\n\u001b[1;32m     11\u001b[0m \u001b[0;34m\u001b[0m\u001b[0m\n",
      "\u001b[0;32m/home/dgagne/miniconda3/lib/python3.6/site-packages/matplotlib/__init__.py\u001b[0m in \u001b[0;36minner\u001b[0;34m(ax, *args, **kwargs)\u001b[0m\n\u001b[1;32m   1853\u001b[0m                         \u001b[0;34m\"the Matplotlib list!)\"\u001b[0m \u001b[0;34m%\u001b[0m \u001b[0;34m(\u001b[0m\u001b[0mlabel_namer\u001b[0m\u001b[0;34m,\u001b[0m \u001b[0mfunc\u001b[0m\u001b[0;34m.\u001b[0m\u001b[0m__name__\u001b[0m\u001b[0;34m)\u001b[0m\u001b[0;34m,\u001b[0m\u001b[0;34m\u001b[0m\u001b[0m\n\u001b[1;32m   1854\u001b[0m                         RuntimeWarning, stacklevel=2)\n\u001b[0;32m-> 1855\u001b[0;31m             \u001b[0;32mreturn\u001b[0m \u001b[0mfunc\u001b[0m\u001b[0;34m(\u001b[0m\u001b[0max\u001b[0m\u001b[0;34m,\u001b[0m \u001b[0;34m*\u001b[0m\u001b[0margs\u001b[0m\u001b[0;34m,\u001b[0m \u001b[0;34m**\u001b[0m\u001b[0mkwargs\u001b[0m\u001b[0;34m)\u001b[0m\u001b[0;34m\u001b[0m\u001b[0m\n\u001b[0m\u001b[1;32m   1856\u001b[0m \u001b[0;34m\u001b[0m\u001b[0m\n\u001b[1;32m   1857\u001b[0m         inner.__doc__ = _add_data_doc(inner.__doc__,\n",
      "\u001b[0;32m/home/dgagne/miniconda3/lib/python3.6/site-packages/matplotlib/axes/_axes.py\u001b[0m in \u001b[0;36mhist\u001b[0;34m(***failed resolving arguments***)\u001b[0m\n\u001b[1;32m   6604\u001b[0m                 patch = _barfunc(bins[:-1]+boffset, height, width,\n\u001b[1;32m   6605\u001b[0m                                  \u001b[0malign\u001b[0m\u001b[0;34m=\u001b[0m\u001b[0;34m'center'\u001b[0m\u001b[0;34m,\u001b[0m \u001b[0mlog\u001b[0m\u001b[0;34m=\u001b[0m\u001b[0mlog\u001b[0m\u001b[0;34m,\u001b[0m\u001b[0;34m\u001b[0m\u001b[0m\n\u001b[0;32m-> 6606\u001b[0;31m                                  color=c, **{bottom_kwarg: bottom})\n\u001b[0m\u001b[1;32m   6607\u001b[0m                 \u001b[0mpatches\u001b[0m\u001b[0;34m.\u001b[0m\u001b[0mappend\u001b[0m\u001b[0;34m(\u001b[0m\u001b[0mpatch\u001b[0m\u001b[0;34m)\u001b[0m\u001b[0;34m\u001b[0m\u001b[0m\n\u001b[1;32m   6608\u001b[0m                 \u001b[0;32mif\u001b[0m \u001b[0mstacked\u001b[0m\u001b[0;34m:\u001b[0m\u001b[0;34m\u001b[0m\u001b[0m\n",
      "\u001b[0;32m/home/dgagne/miniconda3/lib/python3.6/site-packages/matplotlib/__init__.py\u001b[0m in \u001b[0;36minner\u001b[0;34m(ax, *args, **kwargs)\u001b[0m\n\u001b[1;32m   1853\u001b[0m                         \u001b[0;34m\"the Matplotlib list!)\"\u001b[0m \u001b[0;34m%\u001b[0m \u001b[0;34m(\u001b[0m\u001b[0mlabel_namer\u001b[0m\u001b[0;34m,\u001b[0m \u001b[0mfunc\u001b[0m\u001b[0;34m.\u001b[0m\u001b[0m__name__\u001b[0m\u001b[0;34m)\u001b[0m\u001b[0;34m,\u001b[0m\u001b[0;34m\u001b[0m\u001b[0m\n\u001b[1;32m   1854\u001b[0m                         RuntimeWarning, stacklevel=2)\n\u001b[0;32m-> 1855\u001b[0;31m             \u001b[0;32mreturn\u001b[0m \u001b[0mfunc\u001b[0m\u001b[0;34m(\u001b[0m\u001b[0max\u001b[0m\u001b[0;34m,\u001b[0m \u001b[0;34m*\u001b[0m\u001b[0margs\u001b[0m\u001b[0;34m,\u001b[0m \u001b[0;34m**\u001b[0m\u001b[0mkwargs\u001b[0m\u001b[0;34m)\u001b[0m\u001b[0;34m\u001b[0m\u001b[0m\n\u001b[0m\u001b[1;32m   1856\u001b[0m \u001b[0;34m\u001b[0m\u001b[0m\n\u001b[1;32m   1857\u001b[0m         inner.__doc__ = _add_data_doc(inner.__doc__,\n",
      "\u001b[0;32m/home/dgagne/miniconda3/lib/python3.6/site-packages/matplotlib/axes/_axes.py\u001b[0m in \u001b[0;36mbar\u001b[0;34m(self, *args, **kwargs)\u001b[0m\n\u001b[1;32m   2326\u001b[0m             \u001b[0mymin\u001b[0m \u001b[0;34m=\u001b[0m \u001b[0mmax\u001b[0m\u001b[0;34m(\u001b[0m\u001b[0mymin\u001b[0m \u001b[0;34m*\u001b[0m \u001b[0;36m0.9\u001b[0m\u001b[0;34m,\u001b[0m \u001b[0;36m1e-100\u001b[0m\u001b[0;34m)\u001b[0m\u001b[0;34m\u001b[0m\u001b[0m\n\u001b[1;32m   2327\u001b[0m             \u001b[0mself\u001b[0m\u001b[0;34m.\u001b[0m\u001b[0mdataLim\u001b[0m\u001b[0;34m.\u001b[0m\u001b[0mintervaly\u001b[0m \u001b[0;34m=\u001b[0m \u001b[0;34m(\u001b[0m\u001b[0mymin\u001b[0m\u001b[0;34m,\u001b[0m \u001b[0mymax\u001b[0m\u001b[0;34m)\u001b[0m\u001b[0;34m\u001b[0m\u001b[0m\n\u001b[0;32m-> 2328\u001b[0;31m         \u001b[0mself\u001b[0m\u001b[0;34m.\u001b[0m\u001b[0mautoscale_view\u001b[0m\u001b[0;34m(\u001b[0m\u001b[0;34m)\u001b[0m\u001b[0;34m\u001b[0m\u001b[0m\n\u001b[0m\u001b[1;32m   2329\u001b[0m \u001b[0;34m\u001b[0m\u001b[0m\n\u001b[1;32m   2330\u001b[0m         \u001b[0mbar_container\u001b[0m \u001b[0;34m=\u001b[0m \u001b[0mBarContainer\u001b[0m\u001b[0;34m(\u001b[0m\u001b[0mpatches\u001b[0m\u001b[0;34m,\u001b[0m \u001b[0merrorbar\u001b[0m\u001b[0;34m,\u001b[0m \u001b[0mlabel\u001b[0m\u001b[0;34m=\u001b[0m\u001b[0mlabel\u001b[0m\u001b[0;34m)\u001b[0m\u001b[0;34m\u001b[0m\u001b[0m\n",
      "\u001b[0;32m/home/dgagne/miniconda3/lib/python3.6/site-packages/matplotlib/axes/_base.py\u001b[0m in \u001b[0;36mautoscale_view\u001b[0;34m(self, tight, scalex, scaley)\u001b[0m\n\u001b[1;32m   2448\u001b[0m             \u001b[0mstickies\u001b[0m \u001b[0;34m=\u001b[0m \u001b[0;34m[\u001b[0m\u001b[0martist\u001b[0m\u001b[0;34m.\u001b[0m\u001b[0msticky_edges\u001b[0m \u001b[0;32mfor\u001b[0m \u001b[0martist\u001b[0m \u001b[0;32min\u001b[0m \u001b[0mself\u001b[0m\u001b[0;34m.\u001b[0m\u001b[0mget_children\u001b[0m\u001b[0;34m(\u001b[0m\u001b[0;34m)\u001b[0m\u001b[0;34m]\u001b[0m\u001b[0;34m\u001b[0m\u001b[0m\n\u001b[1;32m   2449\u001b[0m             \u001b[0mx_stickies\u001b[0m \u001b[0;34m=\u001b[0m \u001b[0msum\u001b[0m\u001b[0;34m(\u001b[0m\u001b[0;34m[\u001b[0m\u001b[0msticky\u001b[0m\u001b[0;34m.\u001b[0m\u001b[0mx\u001b[0m \u001b[0;32mfor\u001b[0m \u001b[0msticky\u001b[0m \u001b[0;32min\u001b[0m \u001b[0mstickies\u001b[0m\u001b[0;34m]\u001b[0m\u001b[0;34m,\u001b[0m \u001b[0;34m[\u001b[0m\u001b[0;34m]\u001b[0m\u001b[0;34m)\u001b[0m\u001b[0;34m\u001b[0m\u001b[0m\n\u001b[0;32m-> 2450\u001b[0;31m             \u001b[0my_stickies\u001b[0m \u001b[0;34m=\u001b[0m \u001b[0msum\u001b[0m\u001b[0;34m(\u001b[0m\u001b[0;34m[\u001b[0m\u001b[0msticky\u001b[0m\u001b[0;34m.\u001b[0m\u001b[0my\u001b[0m \u001b[0;32mfor\u001b[0m \u001b[0msticky\u001b[0m \u001b[0;32min\u001b[0m \u001b[0mstickies\u001b[0m\u001b[0;34m]\u001b[0m\u001b[0;34m,\u001b[0m \u001b[0;34m[\u001b[0m\u001b[0;34m]\u001b[0m\u001b[0;34m)\u001b[0m\u001b[0;34m\u001b[0m\u001b[0m\n\u001b[0m\u001b[1;32m   2451\u001b[0m             \u001b[0;32mif\u001b[0m \u001b[0mself\u001b[0m\u001b[0;34m.\u001b[0m\u001b[0mget_xscale\u001b[0m\u001b[0;34m(\u001b[0m\u001b[0;34m)\u001b[0m\u001b[0;34m.\u001b[0m\u001b[0mlower\u001b[0m\u001b[0;34m(\u001b[0m\u001b[0;34m)\u001b[0m \u001b[0;34m==\u001b[0m \u001b[0;34m'log'\u001b[0m\u001b[0;34m:\u001b[0m\u001b[0;34m\u001b[0m\u001b[0m\n\u001b[1;32m   2452\u001b[0m                 \u001b[0mx_stickies\u001b[0m \u001b[0;34m=\u001b[0m \u001b[0;34m[\u001b[0m\u001b[0mxs\u001b[0m \u001b[0;32mfor\u001b[0m \u001b[0mxs\u001b[0m \u001b[0;32min\u001b[0m \u001b[0mx_stickies\u001b[0m \u001b[0;32mif\u001b[0m \u001b[0mxs\u001b[0m \u001b[0;34m>\u001b[0m \u001b[0;36m0\u001b[0m\u001b[0;34m]\u001b[0m\u001b[0;34m\u001b[0m\u001b[0m\n",
      "\u001b[0;31mKeyboardInterrupt\u001b[0m: "
     ]
    }
   ],
   "source": [
    "plt.rcParams['figure.figsize'] = [10, 10]\n",
    "for i in range(1,2):\n",
    "    \n",
    "    # Set up the plot\n",
    "    ax = plt.subplot(1, 1, i)\n",
    "    \n",
    "    # Draw the plot\n",
    "    if i == 1:\n",
    "        ax.hist(idaho_flux_no_missing['h2o_flux'],bins=50)\n",
    "        ax.set_title('h2o_flux', size = 10)\n",
    "        \n",
    "plt.tight_layout()\n",
    "plt.show()\n"
   ]
  },
  {
   "cell_type": "code",
   "execution_count": null,
   "metadata": {},
   "outputs": [],
   "source": [
    "plt.rcParams['figure.figsize'] = [10, 10]\n",
    "for i in range(1,7):\n",
    "    \n",
    "    # Set up the plot\n",
    "    ax = plt.subplot(4, 2, i)\n",
    "    \n",
    "    # Draw the plot\n",
    "    if i == 1:\n",
    "        ax.hist(idaho_flux_no_missing['Tau'],bins=50)\n",
    "        ax.set_title('Tau', size = 10)\n",
    "    elif i == 2:\n",
    "        ax.hist(idaho_flux_no_missing['H'],bins=50)\n",
    "        ax.set_title('Sensible Heat Flux', size = 10)\n",
    "    elif i == 3:\n",
    "        ax.hist(idaho_flux_no_missing['LE'],bins=50)\n",
    "        ax.set_title('Latent Heat Flux', size = 10)\n",
    "    elif i == 4:\n",
    "        ax.hist(idaho_flux_no_missing['co2_flux'],bins=50)\n",
    "        ax.set_title('CO2 Flux', size = 10)\n",
    "    elif i == 5:\n",
    "        ax.hist(idaho_flux_no_missing['air_heat_capacity'],bins=50)\n",
    "        ax.set_title('Heat Capacity of Air', size = 10)\n",
    "    elif i == 6:\n",
    "        ax.hist(idaho_flux_no_missing['air_density'],bins=50)\n",
    "        ax.set_title('Air Density', size = 10)\n",
    "#    elif i == 7:\n",
    "#        ax.hist(idaho_flux_no_missing['h2o_flux'],bins=50)\n",
    "#        ax.set_title('h2o_flux', size = 10)\n",
    "\n",
    "    \n",
    "    # Title and labels\n",
    "#    ax.set_title('Histogram with Binwidth = %d' % binwidth, size = 30)\n",
    "#    ax.set_xlabel('Delay (min)', size = 22)\n",
    "#    ax.set_ylabel('Flights', size= 22)\n",
    "\n",
    "plt.tight_layout()\n",
    "plt.show()\n",
    "\n"
   ]
  },
  {
   "cell_type": "code",
   "execution_count": null,
   "metadata": {},
   "outputs": [],
   "source": [
    "plt.rcParams['figure.figsize'] = [10, 10]\n",
    "for i in range(1,9):\n",
    "    \n",
    "    # Set up the plot\n",
    "    ax = plt.subplot(4, 2, i)\n",
    "    \n",
    "    # Draw the plot\n",
    "    if i == 1:\n",
    "        ax.hist(idaho_met_no_missing['2m Wind Speed m/s'],bins=50)\n",
    "        ax.set_title('2m Wind Speed m/s', size = 10)\n",
    "    elif i == 2:\n",
    "        ax.hist(idaho_met_no_missing['2m Wind Gust m/s'],bins=50)\n",
    "        ax.set_title('2m Wind Gust m/s', size = 10)\n",
    "    elif i == 3:\n",
    "        ax.hist(idaho_met_no_missing['10m Wind Speed m/s'],bins=50)\n",
    "        ax.set_title('10m Wind Speed m/s', size = 10)\n",
    "    elif i == 4:\n",
    "        ax.hist(idaho_met_no_missing['10m Wind Gust m/s'],bins=50)\n",
    "        ax.set_title('10m Wind Gust m/s', size = 10)\n",
    "    elif i == 5:\n",
    "        ax.hist(idaho_met_no_missing['15m Wind Speed m/s'],bins=50)\n",
    "        ax.set_title('15m Wind Speed m/s', size = 10)\n",
    "    elif i == 6:\n",
    "        ax.hist(idaho_met_no_missing['15m Wind Gust m/s'],bins=50)\n",
    "        ax.set_title('15m Wind Gust m/s', size = 10)\n",
    "    elif i == 7:\n",
    "        ax.hist(idaho_met_no_missing['45m Wind Speed m/s'],bins=50)\n",
    "        ax.set_title('45m Wind Speed m/s', size = 10)\n",
    "    elif i == 8:\n",
    "        ax.hist(idaho_met_no_missing['45m Wind Gust m/s'],bins=50)\n",
    "        ax.set_title('45m Wind Gust m/s', size = 10)\n",
    "    \n",
    "    # Title and labels\n",
    "#    ax.set_title('Histogram with Binwidth = %d' % binwidth, size = 30)\n",
    "#    ax.set_xlabel('Delay (min)', size = 22)\n",
    "#    ax.set_ylabel('Flights', size= 22)\n",
    "\n",
    "plt.tight_layout()\n",
    "plt.show()"
   ]
  },
  {
   "cell_type": "code",
   "execution_count": null,
   "metadata": {},
   "outputs": [],
   "source": [
    "plt.rcParams['figure.figsize'] = [10, 10]\n",
    "for i in range(1,9):\n",
    "    \n",
    "    # Set up the plot\n",
    "    ax = plt.subplot(4, 2, i)\n",
    "    \n",
    "    # Draw the plot\n",
    "    if i == 1:\n",
    "        ax.hist(idaho_met_no_missing['2m Wind Dir deg'],bins=50)\n",
    "        ax.set_title('2m Wind Dir deg', size = 10)\n",
    "    elif i == 2:\n",
    "        ax.hist(idaho_met_no_missing['2m Sigma Theta deg'],bins=50)\n",
    "        ax.set_title('2m Sigma Theta deg', size = 10)\n",
    "    elif i == 3:\n",
    "        ax.hist(idaho_met_no_missing['10m Wind Dir deg'],bins=50)\n",
    "        ax.set_title('10m Wind Dir deg', size = 10)\n",
    "    elif i == 4:\n",
    "        ax.hist(idaho_met_no_missing['10m Sigma Theta deg'],bins=50)\n",
    "        ax.set_title('10m Sigma Theta deg', size = 10)\n",
    "    elif i == 5:\n",
    "        ax.hist(idaho_met_no_missing['15m Wind Dir deg'],bins=50)\n",
    "        ax.set_title('15m Wind Dir deg', size = 10)\n",
    "    elif i == 6:\n",
    "        ax.hist(idaho_met_no_missing['15m Sigma Theta deg'],bins=50)\n",
    "        ax.set_title('15m Sigma Theta deg', size = 10)\n",
    "    elif i == 7:\n",
    "        ax.hist(idaho_met_no_missing['45m Wind Dir deg'],bins=50)\n",
    "        ax.set_title('45m Wind Dir deg', size = 10)\n",
    "    elif i == 8:\n",
    "        ax.hist(idaho_met_no_missing['45m Sigma Theta deg'],bins=50)\n",
    "        ax.set_title('45m Sigma Theta deg', size = 10)\n",
    "    \n",
    "    # Title and labels\n",
    "#    ax.set_title('Histogram with Binwidth = %d' % binwidth, size = 30)\n",
    "#    ax.set_xlabel('Delay (min)', size = 22)\n",
    "#    ax.set_ylabel('Flights', size= 22)\n",
    "\n",
    "plt.tight_layout()\n",
    "plt.show()"
   ]
  },
  {
   "cell_type": "code",
   "execution_count": null,
   "metadata": {},
   "outputs": [],
   "source": [
    "plt.rcParams['figure.figsize'] = [10, 10]\n",
    "for i in range(1,5):\n",
    "    \n",
    "    # Set up the plot\n",
    "    ax = plt.subplot(2, 2, i)\n",
    "    \n",
    "    # Draw the plot\n",
    "    if i == 1:\n",
    "        ax.hist(idaho_met_no_missing['2m Temp C'],bins=50)\n",
    "        ax.set_title('2m Temp C', size = 10)\n",
    "    elif i == 2:\n",
    "        ax.hist(idaho_met_no_missing['10m Temp C'],bins=50)\n",
    "        ax.set_title('10m Temp C', size = 10)\n",
    "    elif i == 3:\n",
    "        ax.hist(idaho_met_no_missing['15m Temp C'],bins=50)\n",
    "        ax.set_title('15m Temp C', size = 10)\n",
    "    elif i == 4:\n",
    "        ax.hist(idaho_met_no_missing['45m Temp C'],bins=50)\n",
    "        ax.set_title('45m Temp C', size = 10)\n",
    "    \n",
    "    # Title and labels\n",
    "#    ax.set_title('Histogram with Binwidth = %d' % binwidth, size = 30)\n",
    "#    ax.set_xlabel('Delay (min)', size = 22)\n",
    "#    ax.set_ylabel('Flights', size= 22)\n",
    "\n",
    "plt.tight_layout()\n",
    "plt.show()"
   ]
  },
  {
   "cell_type": "code",
   "execution_count": null,
   "metadata": {},
   "outputs": [],
   "source": [
    "plt.rcParams['figure.figsize'] = [10, 10]\n",
    "for i in range(1,6):\n",
    "    \n",
    "    # Set up the plot\n",
    "    ax = plt.subplot(3, 2, i)\n",
    "    \n",
    "    # Draw the plot\n",
    "    if i == 1:\n",
    "        ax.hist(idaho_met_no_missing['5cm Water Content'],bins=50)\n",
    "        ax.set_title('5cm Water Content', size = 10)\n",
    "    elif i == 2:\n",
    "        ax.hist(idaho_met_no_missing['10cm Water Content'],bins=50)\n",
    "        ax.set_title('10cm Water Content', size = 10)\n",
    "    elif i == 3:\n",
    "        ax.hist(idaho_met_no_missing['20cm Water Content'],bins=50)\n",
    "        ax.set_title('20cm Water Content', size = 10)\n",
    "    elif i == 4:\n",
    "        ax.hist(idaho_met_no_missing['50cm Water Content'],bins=50)\n",
    "        ax.set_title('50cm Water Content', size = 10)\n",
    "    elif i == 5:\n",
    "        ax.hist(idaho_met_no_missing['100cm Water Content'],bins=50)\n",
    "        ax.set_title('100cm Water Content', size = 10)\n",
    "\n",
    "    \n",
    "    # Title and labels\n",
    "#    ax.set_title('Histogram with Binwidth = %d' % binwidth, size = 30)\n",
    "#    ax.set_xlabel('Delay (min)', size = 22)\n",
    "#    ax.set_ylabel('Flights', size= 22)\n",
    "\n",
    "plt.tight_layout()\n",
    "plt.show()"
   ]
  },
  {
   "cell_type": "code",
   "execution_count": null,
   "metadata": {},
   "outputs": [],
   "source": [
    "plt.rcParams['figure.figsize'] = [10, 10]\n",
    "for i in range(1,5):\n",
    "    \n",
    "    # Set up the plot\n",
    "    ax = plt.subplot(2, 2, i)\n",
    "    \n",
    "    # Draw the plot\n",
    "    if i == 1:\n",
    "        ax.hist(idaho_met_no_missing['2m RH %'],bins=50)\n",
    "        ax.set_title('2m RH %', size = 10)\n",
    "    elif i == 2:\n",
    "        ax.hist(idaho_met_no_missing['Solar Rad w/m^2'],bins=50)\n",
    "        ax.set_title('Solar Rad w/m^2', size = 10)\n",
    "    elif i == 3:\n",
    "        ax.hist(idaho_met_no_missing['BP inches Hg'],bins=50)\n",
    "        ax.set_title('BP inches Hg', size = 10)\n",
    "    elif i == 4:\n",
    "        ax.hist(idaho_met_no_missing['Rain inches'],bins=50)\n",
    "        ax.set_title('Rain inches', size = 10)\n",
    "\n",
    "    \n",
    "    # Title and labels\n",
    "#    ax.set_title('Histogram with Binwidth = %d' % binwidth, size = 30)\n",
    "#    ax.set_xlabel('Delay (min)', size = 22)\n",
    "#    ax.set_ylabel('Flights', size= 22)\n",
    "\n",
    "plt.tight_layout()\n",
    "plt.show()"
   ]
  }
 ],
 "metadata": {
  "kernelspec": {
   "display_name": "Python 3",
   "language": "python",
   "name": "python3"
  },
  "language_info": {
   "codemirror_mode": {
    "name": "ipython",
    "version": 3
   },
   "file_extension": ".py",
   "mimetype": "text/x-python",
   "name": "python",
   "nbconvert_exporter": "python",
   "pygments_lexer": "ipython3",
   "version": "3.6.5"
  }
 },
 "nbformat": 4,
 "nbformat_minor": 2
}
